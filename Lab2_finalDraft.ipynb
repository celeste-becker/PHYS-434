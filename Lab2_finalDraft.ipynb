{
 "cells": [
  {
   "cell_type": "markdown",
   "metadata": {},
   "source": [
    "# *Lab #2*\n",
    "This lab will be focused on using convolution. Convolution can be used to calculate the probability of a sum or average."
   ]
  },
  {
   "cell_type": "code",
   "execution_count": 262,
   "metadata": {},
   "outputs": [],
   "source": [
    "## Importing Libraries \n",
    "%matplotlib inline\n",
    "import numpy as np\n",
    "import matplotlib\n",
    "import matplotlib.pyplot as plt\n",
    "import scipy\n",
    "import scipy.signal as signal\n",
    "from scipy import stats"
   ]
  },
  {
   "cell_type": "markdown",
   "metadata": {},
   "source": [
    "## Problem 1\n",
    "\n",
    "- We are looking for gamma-ray sources. \n",
    "\n",
    "- However there is a background of cosmic-rays. The background of cosmic-rays creates a discrete noise signal that follows a Poisson distribuiton. \n",
    "\n",
    "- To detect our gamma-ray source, we need to find what the probability is that the cosmic-ray background will give a measurement as a signal-like, or more signal-like than the measurement we recieved.\n",
    "\n",
    "- The average daily cosmic-ray background noise is a number X\n",
    "\n",
    "- the average daily number of gamma-rays (desired signal) emitted by a source is Y \n",
    "\n",
    "\n",
    "The **Poission Distribution** describes the probability of a number of events occuring in a fixed time interval with a known constant mean rate. Each event is independent of the time since the last event. \n",
    "\n",
    "\n",
    "**Poisson Probability Mass Function (PMF)**\n",
    "This is a helpful distribution for looking at how many times an event occurs within a time interval.\n",
    "\n",
    "$$f(k;\\lambda )=\\Pr(X=k)={\\frac {\\lambda ^{k}e^{-\\lambda }}{k!}}$$\n",
    "\n",
    "- k = discrete random variable, the number of occurances\n",
    "- k! = factorial of k\n",
    "- $\\lambda$ = the expected value of k = variance\n",
    "\n",
    "Note again that with a discrete random variable events occur independently. "
   ]
  },
  {
   "cell_type": "markdown",
   "metadata": {},
   "source": [
    "### A) *Show how the probability distribution of the background changes as you integrate (sum) for more days.*\n",
    "\n",
    "We will set the daily average number of cosmic-ray backgorund noise equal to 3. This is the mean value for the number of cosmic-ray background measurements.\n",
    "\n",
    "Next we set the daily average number of gamma-ray desired signal measurements equal to 6."
   ]
  },
  {
   "cell_type": "code",
   "execution_count": 263,
   "metadata": {},
   "outputs": [],
   "source": [
    "#---- PROBLEM SET UP ----\n",
    "\n",
    "#daily average cosmic-ray background noise\n",
    "cosmicRay_dayAvg = 3;\n",
    "\n",
    "#poisson distribution cosmic-ray background noise data\n",
    "data_cosmicRay = stats.poisson(cosmicRay_dayAvg);\n",
    "\n",
    "#discrete random variable, number of occurances of cosmic-rays \n",
    "k_cosmicRays = np.arange(0,40);\n",
    "\n",
    "#pmf of the cosmic ray background, taking a discrete variable \n",
    "\n",
    "#pmf of cosmic-ray background\n",
    "pmf_day1 = data_cosmicRay.pmf(k_cosmicRays);"
   ]
  },
  {
   "cell_type": "markdown",
   "metadata": {},
   "source": [
    "Below is a funciton that allows you to easily calculate the integrated summed pmf distribution over multiple days. "
   ]
  },
  {
   "cell_type": "code",
   "execution_count": 264,
   "metadata": {},
   "outputs": [],
   "source": [
    "#This function takes a pmf distribution, and an integer number of days.\n",
    "#It outputs the pmf sum over multiple days\n",
    "\n",
    "def pmf_laterDaySum(pmf_day1, days):\n",
    "    \n",
    "    pmf_sum = pmf_day1;\n",
    "    \n",
    "    for i in range(days-1):\n",
    "        pmf_sum = np.convolve(pmf_sum, pmf_day1)\n",
    "        \n",
    "    return pmf_sum"
   ]
  },
  {
   "cell_type": "markdown",
   "metadata": {},
   "source": [
    "Next we will create a series of plots showing the how the probability distribution of the background data changes over time as we integrate over 1 days, 5 days, and 10 days."
   ]
  },
  {
   "cell_type": "code",
   "execution_count": 265,
   "metadata": {},
   "outputs": [
    {
     "data": {
      "image/png": "[encoded data removed]",
      "text/plain": [
       "<Figure size 432x288 with 1 Axes>"
      ]
     },
     "metadata": {
      "needs_background": "light"
     },
     "output_type": "display_data"
    },
    {
     "data": {
      "image/png": "[encoded data removed]",
      "text/plain": [
       "<Figure size 432x288 with 1 Axes>"
      ]
     },
     "metadata": {
      "needs_background": "light"
     },
     "output_type": "display_data"
    },
    {
     "data": {
      "image/png": "[encoded data removed]",
      "text/plain": [
       "<Figure size 432x288 with 1 Axes>"
      ]
     },
     "metadata": {
      "needs_background": "light"
     },
     "output_type": "display_data"
    }
   ],
   "source": [
    "#---- PLOTS ----\n",
    "\n",
    "#-----PLOT 1: DAY 3------\n",
    "days = 3\n",
    "#calculate integrated sum\n",
    "pmf_sum_day3 = pmf_laterDaySum(pmf_day1, days)\n",
    "\n",
    "#plot\n",
    "fig, ax1 = plt.subplots(1,1)\n",
    "ax1.vlines(k_cosmicRays, 0, pmf_sum_day3)\n",
    "\n",
    "ax1.set_yscale('symlog', nonposy='clip', linthreshy=0.01)\n",
    "#Setting plot title and lables\n",
    "ax1.set_xlabel('Number of cosmic rays', size = 10)\n",
    "ax1.set_ylabel('PMF', size = 10)\n",
    "ax1.set_title('Day 3: Summed Cosmic-Ray PMF')\n",
    "plt.show()\n",
    "\n",
    "\n",
    "#-----PLOT 2: DAY 4------\n",
    "days = 4\n",
    "\n",
    "pmf_sum_day4 = pmf_laterDaySum(pmf_day1, days)\n",
    "\n",
    "#plot\n",
    "fig, ax1 = plt.subplots(1,1)\n",
    "\n",
    "ax1.vlines(k_cosmicRays, 0, pmf_sum_day4)\n",
    "\n",
    "#Style plot\n",
    "ax1.set_yscale('symlog', nonposy='clip', linthreshy=0.01)\n",
    "ax1.set_xlabel('Number of cosmic rays', size = 10)\n",
    "ax1.set_ylabel('PMF', size = 10)\n",
    "ax1.set_title('Day 4: Summed Cosmic-Ray PMF ')\n",
    "plt.show()\n",
    "\n",
    "\n",
    "#-----PLOT 2: DAY 5------\n",
    "days = 5\n",
    "pmf_sum_day5 = pmf_laterDaySum(pmf_day1, days)\n",
    "\n",
    "fig, ax1 = plt.subplots(1,1)\n",
    "\n",
    "ax1.vlines(k_cosmicRays, 0, pmf_sum_day5)\n",
    "\n",
    "#Style plot\n",
    "ax1.set_yscale('symlog', nonposy='clip', linthreshy=0.01)\n",
    "ax1.set_xlabel('Number of cosmic rays', size = 10)\n",
    "ax1.set_ylabel('PMF', size = 10)\n",
    "ax1.set_title('Day 5: Summed Cosmic-Ray PMF ')\n",
    "plt.show()"
   ]
  },
  {
   "cell_type": "markdown",
   "metadata": {},
   "source": [
    "The series of plots above shows how the probability distribution changes as you integrate (sum) for more days."
   ]
  },
  {
   "cell_type": "markdown",
   "metadata": {},
   "source": [
    "### B) *Show that after 5 days, the summed probability distribution is still a Poisson distribution. Explain why this makes sense from a mathematical and conceptual point of view.*"
   ]
  },
  {
   "cell_type": "markdown",
   "metadata": {},
   "source": [
    "From the equation below, we see that when summing a poisson distribution although the expected value ($\\lambda$) changes, the distribution remains a poisson distribution:\n",
    "$${\\displaystyle \\sum _{i=1}^{n}\\mathrm {Poisson} (\\lambda _{i})\\sim \\mathrm {Poisson} \\left(\\sum _{i=1}^{n}\\lambda _{i}\\right)\\qquad \\lambda _{i}>0}$$\n",
    "\n",
    "Looking at the *Day 5: Summed Cosmic-Ray PMF* plot above, we see it is visually congruent with the equation above. As time goes on and the number of days increases, we can see in the series of plots above that the distribution follows a Poisson curve with it's slightly extended tail on the right. The expected value ($\\lambda$) of the Poisson distribution increases as the number of poisson distributions you are summing over increases. This shifts the distribution to the right. Therefore after 5 days, the summed probability distribution is still a Poisson distribution. "
   ]
  },
  {
   "cell_type": "markdown",
   "metadata": {},
   "source": [
    "### C) *Show how the probability distribution evolves as you average days. Calculate for many different ranges of days, and explore the shape of the distribution as the number of days becomes larger. Discuss this in relation to both B) and the central limit theoem.*"
   ]
  },
  {
   "cell_type": "markdown",
   "metadata": {},
   "source": [
    "First we create an averaged probability distribution function"
   ]
  },
  {
   "cell_type": "code",
   "execution_count": 266,
   "metadata": {},
   "outputs": [],
   "source": [
    "#This function takes a pmf distribution, and an integer number of days.\n",
    "#It outputs the pmf average over multiple days as the first return value,\n",
    "#and outputs the re-scaled K (x axis) as the second return value\n",
    "\n",
    "def pmf_laterDayAvg_andK(pmf_day1, days):\n",
    "    \n",
    "    pmf_avg = pmf_day1;\n",
    "    \n",
    "    for i in range(days-1):\n",
    "        pmf_avg = np.convolve(pmf_avg, pmf_day1)\n",
    "        \n",
    "    k_cosmicRays = np.arange(len(pmf_avg)) / days;\n",
    "        \n",
    "    return pmf_avg, k_cosmicRays;"
   ]
  },
  {
   "cell_type": "markdown",
   "metadata": {},
   "source": [
    "Next we make a series of multiple plots over different time intervals"
   ]
  },
  {
   "cell_type": "code",
   "execution_count": 267,
   "metadata": {},
   "outputs": [
    {
     "data": {
      "image/png": "[encoded data removed]",
      "text/plain": [
       "<Figure size 432x288 with 1 Axes>"
      ]
     },
     "metadata": {
      "needs_background": "light"
     },
     "output_type": "display_data"
    },
    {
     "data": {
      "image/png": "[encoded data removed]",
      "text/plain": [
       "<Figure size 432x288 with 1 Axes>"
      ]
     },
     "metadata": {
      "needs_background": "light"
     },
     "output_type": "display_data"
    },
    {
     "data": {
      "image/png": "[encoded data removed]",
      "text/plain": [
       "<Figure size 432x288 with 1 Axes>"
      ]
     },
     "metadata": {
      "needs_background": "light"
     },
     "output_type": "display_data"
    }
   ],
   "source": [
    "#---- PLOTS ----\n",
    "\n",
    "#-----PLOT 1: DAY 5------\n",
    "days = 5;\n",
    "\n",
    "pmf_avgDay5Params = pmf_laterDayAvg_andK(pmf_day1, days);\n",
    "\n",
    "pmf_avgDay5 = pmf_avgDay5Params[0];\n",
    "\n",
    "k5 = pmf_avgDay5Params[1];\n",
    "\n",
    "#plots\n",
    "fig, ax1 = plt.subplots(1,1)\n",
    "ax1.vlines(k5, 0, pmf_avgDay5)\n",
    "\n",
    "ax1.set_yscale('symlog', nonposy='clip', linthreshy=0.01)\n",
    "ax1.set_xlim(0,15);\n",
    "\n",
    "#Setting plot title and lables\n",
    "ax1.set_xlabel('number of cosmic rays', size = 10)\n",
    "ax1.set_ylabel('pmf', size = 10)\n",
    "ax1.set_title('Day 5: Averaged Cosmic- ray PMF ')\n",
    "plt.show()\n",
    "\n",
    "\n",
    "#-----PLOT 2: DAY 10------\n",
    "days = 10;\n",
    "\n",
    "pmf_avgDay10Params = pmf_laterDayAvg_andK(pmf_day1, days);\n",
    "\n",
    "pmf_avgDay10 = pmf_avgDay10Params[0];\n",
    "\n",
    "k10 = pmf_avgDay10Params[1];\n",
    "\n",
    "#plots\n",
    "fig, ax1 = plt.subplots(1,1)\n",
    "ax1.vlines(k10, 0, pmf_avgDay10)\n",
    "\n",
    "ax1.set_yscale('symlog', nonposy='clip', linthreshy=0.01)\n",
    "ax1.set_xlim(0,15);\n",
    "\n",
    "#Setting plot title and lables\n",
    "ax1.set_xlabel('number of cosmic rays', size = 10)\n",
    "ax1.set_ylabel('pmf', size = 10)\n",
    "ax1.set_title('Day 10: Averaged Cosmic- ray PMF ')\n",
    "plt.show()\n",
    "\n",
    "\n",
    "#-----PLOT 3: DAY 20------\n",
    "days = 20;\n",
    "\n",
    "pmf_avgDay20Params = pmf_laterDayAvg_andK(pmf_day1, days);\n",
    "\n",
    "pmf_avgDay20 = pmf_avgDay20Params[0];\n",
    "\n",
    "k20 = pmf_avgDay20Params[1];\n",
    "\n",
    "#plots\n",
    "fig, ax1 = plt.subplots(1,1)\n",
    "ax1.vlines(k20, 0, pmf_avgDay20)\n",
    "\n",
    "ax1.set_yscale('symlog', nonposy='clip', linthreshy=0.01)\n",
    "ax1.set_xlim(0,15);\n",
    "\n",
    "#Setting plot title and lables\n",
    "ax1.set_xlabel('number of cosmic rays', size = 10)\n",
    "ax1.set_ylabel('pmf', size = 10)\n",
    "ax1.set_title('Day 10: Averaged Cosmic- ray PMF ')\n",
    "plt.show()\n"
   ]
  },
  {
   "cell_type": "markdown",
   "metadata": {},
   "source": [
    "The **Central Limit Theorem** states: when independent random variables are added, their properly normalized sum tends toward a normal distribution. No matter what form the population distribution is, the sampling distribution tends to a Gaussian. \n",
    "\n",
    "As we can see in the series of plots above, increasing the number of days  averaged causes the the spread of the distribution to shrink, and it's shape looks more like a normal distribution around the mean expected value. \n",
    "\n",
    "Because we are calculating the sample average, we need to re-scale our discrete random variable X (which in our case is K):\n",
    "$${\\displaystyle {\\bar {X}}_{n}:={\\frac {X_{1}+\\cdots +X_{n}}{n}}}$$\n",
    "\n",
    "In the equation above **n** is the number of times averaged. In our case the number of days averaged.\n",
    "\n",
    "**In relationship to part B)**, here we have shown that the Poisson distribution is conserved for sums of the Poisson probability distribution, but not for averages of the probabiity distribution. \n",
    "\n",
    "Also note how by summing an increasing number of poisson probability distributions distributions over time the mean expected value increased and moved the distribution to the right. However when averaging an increaseing number of poisson probability distributions overtime, because we are averageing and re-scaling the discrete random variable, the mean expected value stays in the same place."
   ]
  },
  {
   "cell_type": "markdown",
   "metadata": {},
   "source": [
    "### D) *Pick some number of days N, and assume you saw Y*N gamma rays from your source. Calculate the 'sigma' of your observation. [In reality the number of gamma-rays seen from a source will also fluctuate, but we're going to ignore that complication for a couple of labs.]*"
   ]
  },
  {
   "cell_type": "markdown",
   "metadata": {},
   "source": [
    "Chosen values:\n",
    "- Days = $N = 80$\n",
    "\n",
    "The average daily number of gamma rays emitted is: Y = 6. \n",
    "\n",
    "The total number of gamma rays observe over over **N** number of days is: \n",
    "- Gamma rays = $Y*N = 6*80 = 480$\n",
    "\n",
    "\n",
    "After 60 days, we observe a total of 480 gamma rays. \n",
    "1. What is the probability that the cosmic-ray background signal looks like a value of 480 or even more signal like than the gamma rays observed? \n",
    "2. What is the 'sigma' value of this observation?"
   ]
  },
  {
   "cell_type": "code",
   "execution_count": 268,
   "metadata": {},
   "outputs": [],
   "source": [
    "#days is our N value \n",
    "days = 80\n",
    "\n",
    "#Daily average cosmic rays\n",
    "X = 3\n",
    "\n",
    "#Daily average gamma rays\n",
    "Y = 6\n",
    "\n",
    "#creates an array of numbers gamma rays observed\n",
    "total_gammaRays_obs = np.arange((Y*days))\n",
    "\n",
    "#The mean value of cosmic-rays = number of days*average daily Cosmic Ray value\n",
    "cosmicRay_mean = X*days"
   ]
  },
  {
   "cell_type": "code",
   "execution_count": 269,
   "metadata": {},
   "outputs": [
    {
     "data": {
      "image/png": "[encoded data removed]",
      "text/plain": [
       "<Figure size 432x288 with 1 Axes>"
      ]
     },
     "metadata": {
      "needs_background": "light"
     },
     "output_type": "display_data"
    },
    {
     "name": "stdout",
     "output_type": "stream",
     "text": [
      "80 day cosmic ray mean =  240\n"
     ]
    }
   ],
   "source": [
    "#-----Plot: Day 80 sum of PMF------\n",
    "k_cosmicRays = np.arange(0,40*60);\n",
    "\n",
    "pmf_sum_day80 = pmf_laterDaySum(pmf_day1, days)\n",
    "\n",
    "fig, ax1 = plt.subplots(1,1)\n",
    "\n",
    "ax1.vlines(k_cosmicRays, 0, pmf_sum_day80)\n",
    "\n",
    "#Style plot\n",
    "ax1.set_yscale('symlog', nonposy='clip', linthreshy=0.01)\n",
    "plt.xlim(0,350)\n",
    "ax1.set_xlabel('Number of cosmic rays', size = 10)\n",
    "ax1.set_ylabel('PMF', size = 10)\n",
    "ax1.set_title('Day 80: Summed Cosmic-Ray PMF ')\n",
    "plt.show()\n",
    "\n",
    "print('80 day cosmic ray mean = ', cosmicRay_mean)"
   ]
  },
  {
   "cell_type": "markdown",
   "metadata": {},
   "source": [
    "When looking for the probability that a random variable is above a specific threshold, we need to use the **complementary cumulative distribution function** defined as one minus the CDF:\n",
    "\n",
    "$$F_{X}(x)=\\int _{-\\infty }^{x}f_{X}(t)\\,dt$$\n",
    "\n",
    "$${\\displaystyle {\\bar {F}}_{X}(x)=\\operatorname {P} (X>x)=1-F_{X}(x).}$$\n",
    "\n",
    "Once we have the probability value, we plug this value into the **Percent Point function** to find our sigma value."
   ]
  },
  {
   "cell_type": "code",
   "execution_count": 270,
   "metadata": {},
   "outputs": [
    {
     "name": "stdout",
     "output_type": "stream",
     "text": [
      "probability cosmic ray background signal =  2.1660451210436804e-13\n",
      "sigma =  7.244758935588846\n"
     ]
    }
   ],
   "source": [
    "# Probability that cosmic ray background looks as or more signal like than \n",
    "#the gamma rays observed \n",
    "\n",
    "cosmicRay_Prob = 1 - stats.poisson.cdf(360, mu=cosmicRay_mean)\n",
    "print('probability cosmic ray background signal = ', cosmicRay_Prob)\n",
    "\n",
    "#Plugging the probability into ppf function to find sigma\n",
    "#Need to do do (1-prob) because it's calculating the inverse of the cdf. \n",
    "sigma = stats.norm.ppf(1-cosmicRay_Prob)\n",
    "print('sigma = ', sigma)"
   ]
  },
  {
   "cell_type": "markdown",
   "metadata": {},
   "source": [
    "With a $7.2\\sigma$ value for the cosmic ray background data, it is highly likely that the signal was caused by the background signal."
   ]
  },
  {
   "cell_type": "markdown",
   "metadata": {},
   "source": [
    "## Problem 2\n",
    "\n",
    "Choose a Rayleigh distribution\n",
    "\n",
    "### A) *Show how the distribution changes as you average over more observing intervals.*"
   ]
  },
  {
   "cell_type": "code",
   "execution_count": 271,
   "metadata": {},
   "outputs": [],
   "source": [
    "#---- PROBLEM SET UP ----\n",
    "\n",
    "#daily average cosmic-ray background noise\n",
    "cosmicRay_dayAvg = 3;\n",
    "\n",
    "#poisson distribution cosmic-ray background noise data\n",
    "data_cosmicRay = stats.rayleigh(cosmicRay_dayAvg);\n",
    "\n",
    "#discrete random variable, number of occurances of cosmic-rays \n",
    "k_cosmicRays = np.arange(0,100);\n",
    "\n",
    "#pmf of the cosmic ray background, taking a discrete variable \n",
    "\n",
    "#pmf of cosmic-ray background\n",
    "pdf_day1 = data_cosmicRay.pdf(k_cosmicRays);"
   ]
  },
  {
   "cell_type": "code",
   "execution_count": 272,
   "metadata": {},
   "outputs": [],
   "source": [
    "#This function takes a pdf distribution, and an integer number of days.\n",
    "#It outputs the pdf average over multiple days as the first return value,\n",
    "#and outputs the re-scaled K (x axis) as the second return value\n",
    "\n",
    "def pdf_laterDayAvg_andK(pdf_day1, days):\n",
    "    \n",
    "    pdf_avg = pdf_day1;\n",
    "    \n",
    "    for i in range(days-1):\n",
    "        pdf_avg = np.convolve(pdf_avg, pdf_day1)\n",
    "        \n",
    "    k_cosmicRays = np.arange(len(pdf_avg)) / days;\n",
    "        \n",
    "    return pdf_avg, k_cosmicRays;"
   ]
  },
  {
   "cell_type": "code",
   "execution_count": 273,
   "metadata": {},
   "outputs": [
    {
     "data": {
      "image/png": "[encoded data removed]",
      "text/plain": [
       "<Figure size 432x288 with 1 Axes>"
      ]
     },
     "metadata": {
      "needs_background": "light"
     },
     "output_type": "display_data"
    },
    {
     "data": {
      "image/png": "[encoded data removed]",
      "text/plain": [
       "<Figure size 432x288 with 1 Axes>"
      ]
     },
     "metadata": {
      "needs_background": "light"
     },
     "output_type": "display_data"
    },
    {
     "data": {
      "image/png": "[encoded data removed]",
      "text/plain": [
       "<Figure size 432x288 with 1 Axes>"
      ]
     },
     "metadata": {
      "needs_background": "light"
     },
     "output_type": "display_data"
    }
   ],
   "source": [
    "#---- PLOTS ----\n",
    "\n",
    "#-----PLOT 1: DAY 5------\n",
    "days = 5;\n",
    "\n",
    "pdf_avgDay5Params = pdf_laterDayAvg_andK(pdf_day1, days);\n",
    "\n",
    "pdf_avgDay5 = pdf_avgDay5Params[0];\n",
    "\n",
    "k5 = pdf_avgDay5Params[1];\n",
    "\n",
    "#plots\n",
    "fig, ax1 = plt.subplots(1,1)\n",
    "ax1.vlines(k5, 0, pdf_avgDay5)\n",
    "\n",
    "ax1.set_yscale('symlog', nonposy='clip', linthreshy=0.01)\n",
    "ax1.set_xlim(3,7);\n",
    "\n",
    "#Setting plot title and lables\n",
    "ax1.set_xlabel('number of cosmic rays', size = 10)\n",
    "ax1.set_ylabel('pmf', size = 10)\n",
    "ax1.set_title('Day 5: Averaged Rayleigh PDF ')\n",
    "plt.show()\n",
    "\n",
    "\n",
    "# #-----PLOT 2: DAY 10------\n",
    "days = 10;\n",
    "\n",
    "pdf_avgDay10Params = pdf_laterDayAvg_andK(pdf_day1, days);\n",
    "\n",
    "pdf_avgDay10 = pdf_avgDay10Params[0];\n",
    "\n",
    "k5 = pdf_avgDay10Params[1];\n",
    "\n",
    "#plots\n",
    "fig, ax1 = plt.subplots(1,1)\n",
    "ax1.vlines(k5, 0, pdf_avgDay10)\n",
    "\n",
    "ax1.set_yscale('symlog', nonposy='clip', linthreshy=0.01)\n",
    "ax1.set_xlim(3,7);\n",
    "\n",
    "#Setting plot title and lables\n",
    "ax1.set_xlabel('number of cosmic rays', size = 10)\n",
    "ax1.set_ylabel('pmf', size = 10)\n",
    "ax1.set_title('Day 10: Averaged Rayleigh PDF ')\n",
    "plt.show()\n",
    "\n",
    "\n",
    "# #-----PLOT 3: DAY 20------\n",
    "days = 20;\n",
    "pdf_avgDay20Params = pdf_laterDayAvg_andK(pdf_day1, days);\n",
    "\n",
    "pdf_avgDay20 = pdf_avgDay20Params[0];\n",
    "\n",
    "k5 = pdf_avgDay20Params[1];\n",
    "\n",
    "#plots\n",
    "fig, ax1 = plt.subplots(1,1)\n",
    "ax1.vlines(k5, 0, pdf_avgDay20)\n",
    "\n",
    "ax1.set_yscale('symlog', nonposy='clip', linthreshy=0.01)\n",
    "ax1.set_xlim(3,7);\n",
    "\n",
    "#Setting plot title and lables\n",
    "ax1.set_xlabel('number of cosmic rays', size = 10)\n",
    "ax1.set_ylabel('pmf', size = 10)\n",
    "ax1.set_title('Day 20: Averaged Rayleigh PDF ')\n",
    "plt.show()\n"
   ]
  },
  {
   "cell_type": "markdown",
   "metadata": {},
   "source": [
    "The graphs above show how the Rayleigh distribution changes over time."
   ]
  },
  {
   "cell_type": "markdown",
   "metadata": {},
   "source": [
    "### B) *Discuss how the shape changes. Does it approach a Gaussian distribution? If yes, after how many intervals?*\n",
    "\n",
    "The mean of the function shifts to thr right over time, making the distribution slowly approach a gaussian bell curve shape, with an even amount of data points on the right an . You can see that after about 10 days it looks like it is approaching a gaussian distribution. By 20 days it definitely appears gaussian. "
   ]
  },
  {
   "cell_type": "markdown",
   "metadata": {},
   "source": [
    "## Problem 3\n",
    "- We are using an optical telescope with a thermal noise background from the CCD. \n",
    "- The background appears as a zero-mean Gaussian with a constant width over the image.\n",
    "\n",
    "### Version 1\n",
    "- Looking at a single pixel.\n",
    "- We measure the width of the background Gaussian distribution **X = 18**.\n",
    "- See a signal of strength **Y = 17.82**.\n",
    "- Calculate the significance of your detection. Can you claim a discovery (traditionally 5-sigma or more)?\n",
    "\n",
    "Below, we create the background data with a gaussian distribution, centered with a mean of zero.\n",
    "\n",
    "Then we plot the Probability Density Function (PDF)"
   ]
  },
  {
   "cell_type": "code",
   "execution_count": 274,
   "metadata": {},
   "outputs": [],
   "source": [
    "#---- PROBLEM SET UP ----\n",
    "RealWidth = 18\n",
    "\n",
    "#realWidth / 6\n",
    "widthX = 3\n",
    "signalStrengthY = 17.82\n",
    "\n",
    "#ackground noise data\n",
    "#data = stats.norm(scale=(widthX/6))\n",
    "data = stats.norm(scale=(widthX))\n",
    "\n",
    "\n",
    "#discrete random variable\n",
    "x = np.arange(0,25)\n",
    "\n",
    "#pdf of background signal\n",
    "pdf_1Pixel = data.pdf(x);"
   ]
  },
  {
   "cell_type": "code",
   "execution_count": 275,
   "metadata": {},
   "outputs": [
    {
     "data": {
      "image/png": "[encoded data removed]",
      "text/plain": [
       "<Figure size 432x288 with 1 Axes>"
      ]
     },
     "metadata": {
      "needs_background": "light"
     },
     "output_type": "display_data"
    },
    {
     "name": "stdout",
     "output_type": "stream",
     "text": [
      "sum of pdf =  0.5664903800669053\n"
     ]
    }
   ],
   "source": [
    "#-----PLOT------\n",
    "fig, ax = plt.subplots(1, 1)\n",
    "ax.plot(x,pdf_1Pixel)\n",
    "#ax.set_xlim(0,10);\n",
    "\n",
    "#Setting plot title and lables\n",
    "ax.set_xlabel('Signal Brightness', size = 10)\n",
    "ax.set_ylabel('PDF', size = 10)\n",
    "ax.set_title('Gaussian PDF Background Noise of 1 pixel')\n",
    "plt.show()\n",
    "\n",
    "print('sum of pdf = ', sum(pdf_1Pixel))"
   ]
  },
  {
   "cell_type": "markdown",
   "metadata": {},
   "source": [
    "Note that in the graph above, it looks like only half of a gaussian. This is because we can not measure \"negative\" brightness, so we only have positive values. This is why it makes sense that the summed pdf is ~ 0.5\n",
    "\n",
    "To calculate the probability that the background signal looks as signal like or more signal like than our desired signal (Y=17.82), we use the (1-cdf). This way we are integrating from Y to positive infinity."
   ]
  },
  {
   "cell_type": "code",
   "execution_count": 276,
   "metadata": {},
   "outputs": [
    {
     "name": "stdout",
     "output_type": "stream",
     "text": [
      "probability =  1.425110363051374e-09\n"
     ]
    }
   ],
   "source": [
    "probability_1px = 1-data.cdf(signalStrengthY)\n",
    "print('probability = ', probability_1px)"
   ]
  },
  {
   "cell_type": "markdown",
   "metadata": {},
   "source": [
    "Next we use the Percent Point Function (PPF) to find the corelating $\\sigma$"
   ]
  },
  {
   "cell_type": "code",
   "execution_count": 277,
   "metadata": {},
   "outputs": [
    {
     "name": "stdout",
     "output_type": "stream",
     "text": [
      "sigma =  5.940000002363396\n"
     ]
    }
   ],
   "source": [
    "sigma_1px = stats.norm.ppf(1-probability_1px)\n",
    "print('sigma = ', sigma_1px)"
   ]
  },
  {
   "cell_type": "markdown",
   "metadata": {},
   "source": [
    "The significance of our discovery is $5.94 \\sigma$ for the background signal data. This means we have made a genuine discovery because it is greater than $5 \\sigma$. "
   ]
  },
  {
   "cell_type": "markdown",
   "metadata": {},
   "source": [
    "### Version 2\n",
    "\n",
    "Now we are not looking at a specific pixel, but a region of the sky.\n",
    "\n",
    "### B) *If you have to look for a signal in 10k pixels, what is the probability distribution of your background?*\n",
    "\n",
    "**Statistical Question:** Looking for a signal with 10k pixels, how do we combine the PDF of each individual pixel to find the total bakcground PDF of 10k pixels? \n",
    "\n",
    "**Math (using background distribution from version 1):**\n",
    "Because we know the pdf of 1 pixel from version 1, to find the pdf of 10k pixels we could use convolution like in the first problem, however this takes a very long time to run. We can approximate by multiplying the pdf of 1 pixel by 10k: \n",
    "$${\\displaystyle \\varphi (x)={\\frac {1}{\\sqrt {2\\pi }}}e^{-{\\frac {1}{2}}x^{2}}}$$\n",
    "\n",
    "$${\\displaystyle \\phi (x)={\\frac {10,000}{\\sqrt {2\\pi }}}e^{-{\\frac {1}{2}}x^{2}}} = 10000*\\varphi (x)$$"
   ]
  },
  {
   "cell_type": "code",
   "execution_count": 278,
   "metadata": {},
   "outputs": [],
   "source": [
    "#---- PROBLEM SET UP ----\n",
    "ten_k = 10000\n",
    "\n",
    "widthX = 3\n",
    "signalStrengthY = 17.82\n",
    "\n",
    "#pdf of background signal multiplied by 10k\n",
    "pdf_10kPixel = ten_k*data.pdf(x);"
   ]
  },
  {
   "cell_type": "code",
   "execution_count": 279,
   "metadata": {},
   "outputs": [
    {
     "data": {
      "image/png": "[encoded data removed]",
      "text/plain": [
       "<Figure size 432x288 with 1 Axes>"
      ]
     },
     "metadata": {
      "needs_background": "light"
     },
     "output_type": "display_data"
    }
   ],
   "source": [
    "#-----PLOT------\n",
    "fig, ax = plt.subplots(1, 1)\n",
    "ax.plot(x,pdf_10kPixel)\n",
    "ax.set_xlim(0,25);\n",
    "\n",
    "#Setting plot title and lables\n",
    "ax.set_xlabel('Signal Brightness', size = 10)\n",
    "ax.set_ylabel('PDF', size = 10)\n",
    "ax.set_title('Gaussian PDF Background Noise of 10k pixels')\n",
    "plt.show()"
   ]
  },
  {
   "cell_type": "markdown",
   "metadata": {},
   "source": [
    "### C) *Taking your brightest candidate signal from the region (assume it has the same signal as in part 1), calculate the significance of your detection.*\n",
    "\n",
    "We calculate the probability in a simillar way as in Version 1. Because the probability distribution for 10k pixels is equivalent to the pdf for 1 pixel multiplied by 10k, we know that the probability follows the same pattern.\n",
    "\n",
    "For 1 pixel, we calculated the probability that the background signal looks as signal like or more signal like than our desired signal (Y=21.22) by using (1-cdf). This integrates from Y to positive infinity. For 10k pixels, we can just multiply this probability by 10k to find the probability "
   ]
  },
  {
   "cell_type": "code",
   "execution_count": 280,
   "metadata": {},
   "outputs": [
    {
     "name": "stdout",
     "output_type": "stream",
     "text": [
      "probability =  1.425110363051374e-05\n"
     ]
    }
   ],
   "source": [
    "probability_10k = 10000*probability_1px\n",
    "print('probability = ', probability_10k)"
   ]
  },
  {
   "cell_type": "markdown",
   "metadata": {},
   "source": [
    "To find sigma, use the ppf function just like in Version 1, and plug in the probability above. "
   ]
  },
  {
   "cell_type": "code",
   "execution_count": 281,
   "metadata": {},
   "outputs": [
    {
     "name": "stdout",
     "output_type": "stream",
     "text": [
      "sigma =  4.185114756870744\n"
     ]
    }
   ],
   "source": [
    "sigma_10k = stats.norm.ppf(1-probability_10k)\n",
    "print('sigma = ', sigma_10k)"
   ]
  },
  {
   "cell_type": "markdown",
   "metadata": {},
   "source": [
    "The significance of our discovery is $4.19 \\sigma$. This means we have not made a genuine discovery because the significance is less than than $5 \\sigma$. This means that we can not be certian that our background signal is not interfering with our desired signal. In otherwords, there is a chance our background signal likely looks like the desired signal we are looking for."
   ]
  },
  {
   "cell_type": "markdown",
   "metadata": {},
   "source": [
    "## Problem 4\n",
    "This problem looks at the **trials factor (look-elsewhere effect):** When an statistically significant observation may have actually arisen by chance because of the sheer size of the parameter space to be searched for. (source: https://en.wikipedia.org/wiki/Look-elsewhere_effect)\n",
    "\n",
    "Assume a gaussian background with the same parameters as in problem 3.\n",
    "\n",
    "### A) *Calculate the signal required for a 5-sigma detection in Version 1*\n",
    "Version 1: 1 pixel. This question is asking what is the desired signal Y value if you want a 5-sigma dection?\n",
    "\n",
    "Here we are working backwards: given a sigma value, we want to find a probabiliity, then find the desired Sigma Y value. \n",
    "\n",
    "Below we set sigma equal to 5, and input sigma into the sf function. This finds the probability that ..."
   ]
  },
  {
   "cell_type": "code",
   "execution_count": 300,
   "metadata": {},
   "outputs": [
    {
     "name": "stdout",
     "output_type": "stream",
     "text": [
      "probability =  2.866515718791933e-07\n"
     ]
    }
   ],
   "source": [
    "sigma5 = 5;\n",
    "\n",
    "probability = stats.norm.sf(sigma5)\n",
    "\n",
    "print('probability = ', probability)"
   ]
  },
  {
   "cell_type": "markdown",
   "metadata": {},
   "source": [
    "Now we want to find the desired Sigmal Y value a that coresponds to this probability value."
   ]
  },
  {
   "cell_type": "code",
   "execution_count": 301,
   "metadata": {},
   "outputs": [
    {
     "name": "stdout",
     "output_type": "stream",
     "text": [
      "signal y value =  15.000000000000004\n"
     ]
    }
   ],
   "source": [
    "signalStrengthY = data.isf(probability)\n",
    "\n",
    "print('signal y value = ', signalStrengthY)"
   ]
  },
  {
   "cell_type": "markdown",
   "metadata": {},
   "source": [
    "Here we have found that the desired signal Y=15. To check that this is true, we plug this signal value into the code to find sigma from Version 1. We expect sigma to be 5."
   ]
  },
  {
   "cell_type": "code",
   "execution_count": 302,
   "metadata": {},
   "outputs": [
    {
     "name": "stdout",
     "output_type": "stream",
     "text": [
      "probability =  0.9999997133484281\n",
      "sigma =  -4.999999999970176\n"
     ]
    }
   ],
   "source": [
    "#Check if right using code from Version 1.:\n",
    "\n",
    "probability_1px = data.cdf(signalStrengthY)\n",
    "print('probability = ', probability_1px)\n",
    "\n",
    "sigma_1px = stats.norm.ppf(1-probability_1px)\n",
    "print('sigma = ', sigma_1px)\n"
   ]
  },
  {
   "cell_type": "markdown",
   "metadata": {},
   "source": [
    "Here the absolute value of sigma is ~ 5. Proving that our signal Y = 15 value is correct."
   ]
  },
  {
   "cell_type": "markdown",
   "metadata": {},
   "source": [
    "### B) *Calculate the signal required for a 5-sigma detection in Version 2*\n",
    "Because we know the distribution for 10k pixels is equivalent to 10k times one pixel:"
   ]
  },
  {
   "cell_type": "code",
   "execution_count": 303,
   "metadata": {},
   "outputs": [
    {
     "name": "stdout",
     "output_type": "stream",
     "text": [
      "signal y for 10k =  150000.00000000003\n"
     ]
    }
   ],
   "source": [
    "Y10k = 10000*signalStrengthY\n",
    "print('signal y for 10k = ', Y10k)"
   ]
  },
  {
   "cell_type": "markdown",
   "metadata": {},
   "source": [
    "### C) *Discuss how much brighter the signal must be for discovery if you have a trials factor of 10k. Looking at your probability distributions, explain why the sensitivity penalty due to a trials factor is so low.*\n",
    "\n",
    "If you have a trials factor of 10k, your signal for discovery must also be brighter by a factor of 10k. This would make it near impossible to find a discovery that was not caused by background data, and therefore hinder scientific discovery progress because of the look-elsewhere effect. "
   ]
  },
  {
   "cell_type": "markdown",
   "metadata": {},
   "source": [
    "### D) *If you changed the trials factor significantly (orders of magnitude), how large is the effect on your 5-sigma sensitivity threshold?*\n",
    "If the trial factor is a small number, say 10, you can find a possible measurement this is because the likely hood that your backgroun\n",
    "\n",
    "However with a trials factor of 10k, because your desired signal for discovery must also be brighter by a factor of 10k, you will probabably never actually recieve a signal that is 10k times as signal-like or more than your background distribution.  \n"
   ]
  },
  {
   "cell_type": "code",
   "execution_count": null,
   "metadata": {},
   "outputs": [],
   "source": []
  }
 ],
 "metadata": {
  "kernelspec": {
   "display_name": "Python 3",
   "language": "python",
   "name": "python3"
  },
  "language_info": {
   "codemirror_mode": {
    "name": "ipython",
    "version": 3
   },
   "file_extension": ".py",
   "mimetype": "text/x-python",
   "name": "python",
   "nbconvert_exporter": "python",
   "pygments_lexer": "ipython3",
   "version": "3.7.4"
  }
 },
 "nbformat": 4,
 "nbformat_minor": 4
}
