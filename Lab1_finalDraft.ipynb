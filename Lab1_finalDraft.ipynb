{
 "cells": [
  {
   "cell_type": "markdown",
   "metadata": {},
   "source": [
    "# *Lab #1*\n",
    "\n",
    "This lab focuses on different statistical building blocks. Including continuous and discontiuous distributions."
   ]
  },
  {
   "cell_type": "code",
   "execution_count": 260,
   "metadata": {},
   "outputs": [],
   "source": [
    "## Importing Libraries \n",
    "%matplotlib inline\n",
    "import numpy as np\n",
    "import matplotlib\n",
    "import matplotlib.pyplot as plt\n",
    "import scipy\n",
    "from scipy import stats"
   ]
  },
  {
   "cell_type": "markdown",
   "metadata": {},
   "source": [
    "## A Little Statistics \n",
    "\n",
    "### 1.\n",
    "- The goal of this section is to figure out how to calculate the associated 'sigma' value when given a probability, and vice versa. \n",
    "\n",
    "- **Sigma** is the probability that a background signal looks like the desired signal you actually want. Working with the Wikipedia Z tables page (insert link) to check our answers for problem 1, it is critical to understand that Sigma = Z. Integrals of 'sigma' give probabilities.\n",
    "\n",
    ">'sigma' = z = the probabibality that the background signal looks like desired signal. "
   ]
  },
  {
   "cell_type": "markdown",
   "metadata": {},
   "source": [
    "### 1. A \n",
    "The **Normal Distribution** is a symmetrical bell curve. The values of the mean, median, and mode are all equivalent. This happens when data has no right or left bias and is generally distributed around a central value. \n",
    "\n",
    "A general normal distribution with $\\mu = 0$ and $\\sigma^2 = 1$ is called the **Standard Normal Distribuition.** Note that this sigma squared is completely different from the our Z value below. "
   ]
  },
  {
   "cell_type": "markdown",
   "metadata": {},
   "source": [
    "### 1. B\n",
    "Here we are using the cumulative density function (cdf) to integrate the standard normal distribution. In other words, we are using the cdf to integrate 'sigma' (z) and find a probability. \n",
    "\n",
    "The normal distribution with a standard deviation $\\sigma = 1$, and a mean $\\mu = 0 $, is called the **Standard Normal Distribution**. \n",
    "This is represended by:\n",
    "\n",
    "$$Z= \\frac{X - \\mu}{\\sigma}$$\n",
    "\n",
    "Where X is a random variable from a normal distribution, $\\mu$ is the mean, and $\\sigma$ is the standard deviation. Note again that the standard deviation $\\sigma$ is different from our value of 'sigma' = Z. \n",
    "\n",
    "The equation for the **Cumulative from mean (0 to z)** is f(z):\n",
    "\n",
    "$$\\phi (z) =  \\frac{1}{2\\sqrt{\\pi}} \\int\\limits_0^z e^{\\frac{-x^2}{2}}dx  = \\frac{1}{2} erf(\\frac{z}{\\sqrt{2}}) $$\n",
    "\n",
    "$$f(z)= \\phi (z) - \\frac{1}{2}$$\n",
    "\n",
    "The output of f(z) is the probability that a statistic is between 0 (the mean of the standard normal distribution) and Z ('sigma'). \n",
    "\n",
    "We will test three different Z values. Using the Cumulative from mean (0 to z) Z-table in Wikipedia, we can check that our input Z value coresponds to the correct probability output value. "
   ]
  },
  {
   "cell_type": "code",
   "execution_count": 261,
   "metadata": {},
   "outputs": [
    {
     "name": "stdout",
     "output_type": "stream",
     "text": [
      "intput Z ('sigma') value =  0.01\n",
      "output probability value =  0.003989356314631598\n"
     ]
    }
   ],
   "source": [
    "#Defining Variables\n",
    "z = 0.01;\n",
    "mu = 0;\n",
    "sigma = 1;\n",
    "\n",
    "#cumulative from mean function variable\n",
    "cumulative_from_mean = stats.norm.cdf(z, mu, sigma) - 0.5\n",
    "\n",
    "#prints input and output of cumulative from mean function\n",
    "print(\"intput Z ('sigma') value = \", z)\n",
    "print(\"output probability value = \", cumulative_from_mean)"
   ]
  },
  {
   "cell_type": "code",
   "execution_count": 262,
   "metadata": {},
   "outputs": [
    {
     "name": "stdout",
     "output_type": "stream",
     "text": [
      "intput Z ('sigma') value =  0.03\n",
      "output probability value =  0.01196647341411261\n"
     ]
    }
   ],
   "source": [
    "#2nd check with alternate value of z\n",
    "z = 0.03;\n",
    "\n",
    "#cumulative from mean function variable\n",
    "cumulative_from_mean = stats.norm.cdf(z, mu, sigma) - 0.5\n",
    "\n",
    "#prints input and output of cumulative from mean function\n",
    "print(\"intput Z ('sigma') value = \", z)\n",
    "print(\"output probability value = \", cumulative_from_mean)"
   ]
  },
  {
   "cell_type": "code",
   "execution_count": 263,
   "metadata": {},
   "outputs": [
    {
     "name": "stdout",
     "output_type": "stream",
     "text": [
      "intput Z ('sigma') value =  0.22\n",
      "output probability value =  0.08706442264821457\n"
     ]
    }
   ],
   "source": [
    "#3d check with alternate value of z\n",
    "z = 0.22;\n",
    "\n",
    "#cumulative from mean function variable\n",
    "cumulative_from_mean = stats.norm.cdf(z, mu, sigma) - 0.5\n",
    "\n",
    "#prints input and output of cumulative from mean function\n",
    "print(\"intput Z ('sigma') value = \", z)\n",
    "print(\"output probability value = \", cumulative_from_mean)"
   ]
  },
  {
   "cell_type": "markdown",
   "metadata": {},
   "source": [
    "After checking the Cumulative from mean (0 to z) Z-table in Wikipedia, we see that our output probability values match the table. "
   ]
  },
  {
   "cell_type": "markdown",
   "metadata": {},
   "source": [
    "### 1. C\n",
    "Now we are taking the inverse of the cumulative distribution funciton. Given a probability value, we are determining the associated z ('sigma') value. \n",
    "\n",
    "We do this using the **percent point function**. This function is the inverse of the cdf. When this function is given a probability input, it outputs the value z.\n",
    "\n",
    "In other words, we are calculating the probability that the variable is less than or equal to z for a given z value. \n",
    "\n",
    "Each output z (sigma) value for different input probabalities is checked for accuracy with the cumulative Z-table in Wikipedia. For negative values of z, you need to check the table from the bottom right hand corner, starting with the row first, then the column."
   ]
  },
  {
   "cell_type": "code",
   "execution_count": 264,
   "metadata": {},
   "outputs": [
    {
     "name": "stdout",
     "output_type": "stream",
     "text": [
      "Input probability value =  0.5039893563146316\n",
      "Output z ('sigma') value =  0.009999999999999985\n"
     ]
    }
   ],
   "source": [
    "#Define variables\n",
    "z = 0.01;\n",
    "mu = 0;\n",
    "sigma = 1;\n",
    "\n",
    "#define probability sigma\n",
    "probability_input = stats.norm.cdf(z, mu, sigma)\n",
    "print(\"Input probability value = \", probability_input);\n",
    "\n",
    "ppf = stats.norm.ppf(probability_input);\n",
    "print(\"Output z ('sigma') value = \", ppf);"
   ]
  },
  {
   "cell_type": "code",
   "execution_count": 265,
   "metadata": {},
   "outputs": [
    {
     "name": "stdout",
     "output_type": "stream",
     "text": [
      "Input probability value =  0.6554217416103242\n",
      "Output z ('sigma') value =  0.4000000000000001\n"
     ]
    }
   ],
   "source": [
    "#2nd Test with new probabability input\n",
    "#Define variables\n",
    "z = 0.4;\n",
    "mu = 0;\n",
    "sigma = 1;\n",
    "\n",
    "#define probability sigma\n",
    "probability_input = stats.norm.cdf(z, mu, sigma)\n",
    "print(\"Input probability value = \", probability_input);\n",
    "\n",
    "ppf = stats.norm.ppf(probability_input);\n",
    "print(\"Output z ('sigma') value = \", ppf);"
   ]
  },
  {
   "cell_type": "code",
   "execution_count": 266,
   "metadata": {},
   "outputs": [
    {
     "name": "stdout",
     "output_type": "stream",
     "text": [
      "Input probability value =  0.4960106436853684\n",
      "Output z ('sigma') value =  -0.009999999999999985\n"
     ]
    }
   ],
   "source": [
    "#3d Test with new probabability input\n",
    "#Define variables\n",
    "z = -0.01;\n",
    "mu = 0;\n",
    "sigma = 1;\n",
    "\n",
    "#define probability sigma\n",
    "probability_input = stats.norm.cdf(z, mu, sigma)\n",
    "print(\"Input probability value = \", probability_input);\n",
    "\n",
    "ppf = stats.norm.ppf(probability_input);\n",
    "print(\"Output z ('sigma') value = \", ppf);"
   ]
  },
  {
   "cell_type": "code",
   "execution_count": 267,
   "metadata": {},
   "outputs": [
    {
     "name": "stdout",
     "output_type": "stream",
     "text": [
      "Input probability value =  0.4168338365175577\n",
      "Output z ('sigma') value =  -0.21000000000000002\n"
     ]
    }
   ],
   "source": [
    "#4th Test with new probabability input\n",
    "#Define variables\n",
    "z = -0.21;\n",
    "mu = 0;\n",
    "sigma = 1;\n",
    "\n",
    "#define probability sigma\n",
    "probability_input = stats.norm.cdf(z, mu, sigma)\n",
    "print(\"Input probability value = \", probability_input);\n",
    "\n",
    "ppf = stats.norm.ppf(probability_input);\n",
    "print(\"Output z ('sigma') value = \", ppf);\n"
   ]
  },
  {
   "cell_type": "markdown",
   "metadata": {},
   "source": [
    "After checking The Cumulative Z-table in wikipedia, we see that our input and output values match the table. "
   ]
  },
  {
   "cell_type": "markdown",
   "metadata": {},
   "source": [
    "### 1. D\n",
    "\n",
    "When z ('sigma') is negative, it has a different meaning depending on the context of the situation. \n",
    "\n",
    "The Z ('sigma') helps us interpret the distribution values of the random continuous variable x. Z ('sigma') allows us to calculate the probability that a x variable vlaue is accuring within a distribution. \n",
    "\n",
    "A negative value of Z means that the values of the distribution you are looking at of your data is below the mean of the distribution. "
   ]
  },
  {
   "cell_type": "markdown",
   "metadata": {},
   "source": [
    "### 2. Exponential Distribution\n",
    "Using an *exponential distribution*, we take ~100k samples and make both a histogram plot of data, and a histogram plot along with a probability density function overlay.\n",
    "\n",
    "### 2. A\n",
    "\n",
    "The **exponential distribtuion** is the probability distribution of a process where each data point represents an event that occurs independently and continuously at a constant average rate. \n",
    "\n",
    "The random variable x is an exponential distribution with the rate parameter $\\lambda$ as the constant of proportionality. \n",
    "\n",
    "$$f(x) = e^{-\\lambda x}$$\n",
    "\n",
    "\n",
    "The cumulative distribution function (cdf) an exponential distribution is:\n",
    "\n",
    "$$cdf(x) = 1 - e^{-\\lambda x}$$\n",
    "\n",
    "\n",
    "The probability density funciton (pdf) is:\n",
    "\n",
    "$$pdf(x) = \\lambda e^{-\\lambda x}$$"
   ]
  },
  {
   "cell_type": "markdown",
   "metadata": {},
   "source": [
    "#### 2. B\n",
    "Make the same three plots as in home work 1.\n",
    "\n",
    "**Plot 1**: A histogram of the exponential distribution of data, with a probability distribution function overlay (in orange).\n",
    "\n",
    "**Plot 2**: A histogram of the exponential distribution of data with a log y-axis. \n",
    "\n",
    "**Plot 3**: A histogram of the exponential distribution of data with a log y-axis, and a probability distribution funciton overlay  (in orange).\n"
   ]
  },
  {
   "cell_type": "code",
   "execution_count": 271,
   "metadata": {},
   "outputs": [],
   "source": [
    "#Getting random exponential distribution of points\n",
    "d = stats.expon.rvs(loc = 5., scale = 0.01, size = 100000);"
   ]
  },
  {
   "cell_type": "code",
   "execution_count": 272,
   "metadata": {},
   "outputs": [
    {
     "data": {
      "image/png": "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\n",
      "text/plain": [
       "<Figure size 432x288 with 1 Axes>"
      ]
     },
     "metadata": {
      "needs_background": "light"
     },
     "output_type": "display_data"
    }
   ],
   "source": [
    "#-----Plot 1------\n",
    "#Histogram with Probability Density function -- plot 1\n",
    "fig, ax = plt.subplots(1, 1)\n",
    "ax.hist(d,50, density=True)\n",
    "plt.tick_params(labelsize = 20)\n",
    "#plt.xlim([4.95,5.05])\n",
    "x = np.linspace(4.95,5.05,1000)\n",
    "ax.plot(x,stats.expon.pdf(x,loc = 5., scale = 0.01),linewidth = 8,alpha = 0.7)\n",
    "\n",
    "#Setting plot title and lables\n",
    "ax.set_xlabel('x', size = 20)\n",
    "ax.set_ylabel('$e^{-\\lambda x}$', size = 20)\n",
    "ax.set_title('Histogram of data & Probability Density Funciton', size = 16)\n",
    "\n",
    "plt.show()"
   ]
  },
  {
   "cell_type": "code",
   "execution_count": 274,
   "metadata": {},
   "outputs": [
    {
     "data": {
      "image/png": "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\n",
      "text/plain": [
       "<Figure size 432x288 with 1 Axes>"
      ]
     },
     "metadata": {
      "needs_background": "light"
     },
     "output_type": "display_data"
    }
   ],
   "source": [
    "#-----Plot 2-----\n",
    "fig, ax = plt.subplots(1, 1)\n",
    "\n",
    "ax = plt.hist(d,50)\n",
    "plt.yscale('log')\n",
    "plt.tick_params(labelsize = 20)\n",
    "plt.xlabel('z')\n",
    "\n",
    "#Setting plot title and lables\n",
    "plt.xlabel('x', size = 20)\n",
    "plt.ylabel('$log( e^{-\\lambda} )$', size = 20)\n",
    "plt.title('Histogram of data on log scale', size = 16)\n",
    "plt.show()"
   ]
  },
  {
   "cell_type": "code",
   "execution_count": 275,
   "metadata": {},
   "outputs": [
    {
     "data": {
      "image/png": "iVBORw0KGgoAAAANSUhEUgAAAcEAAAEvCAYAAAA99XoaAAAABHNCSVQICAgIfAhkiAAAAAlwSFlzAAALEgAACxIB0t1+/AAAADh0RVh0U29mdHdhcmUAbWF0cGxvdGxpYiB2ZXJzaW9uMy4xLjMsIGh0dHA6Ly9tYXRwbG90bGliLm9yZy+AADFEAAAgAElEQVR4nO3dd5gb1dXH8e/ZXYqNTTW9xJTQe0/opiXB1ATsAElIJSEQSCAJpLyhhGZ6DRBICDWE3psNNjY2xQWDG9Wm2bhhXHBbSef9446MLEu7o5W0ar/P8+jZ1cy9M0cajY7m3jsz5u6IiIg0oqZKByAiIlIpSoIiItKwlARFRKRhKQmKiEjDUhIUEZGGpSQoIiINS0mwypnZSWbmZrZZjnkt0bxzc5TvWeA6flKSgGuUma1pZneY2VQzm2Nmr5rZsQXU3z9639OPBWY2zsz+z8y6lDDO9HoOKtHyekbL+1mMspPM7PaM58t81nKU2d/MzjWzkn3XZKw3/fgyWu/DZnZcKddVRIwDzWxgxvMdo/dh9RKuI/szl/lod3uWU/Rae+WYfruZTapASHm1VDoAKbkngW8AUwqocxLhs/CvcgRUI+4Gtgd+D0wF9gb2BO4vcDm/AV4HugKHAn8DNgN+WLJIK+doYE6BZfYnvAd/B1IljudY4BNgBWAj4DDgXuAXZna4uy8o8foKcUrW8x0J78NdwOclXlf6M5fp/RKvo1B/Ay4EXsiafgFwTeeHk5+SYJ1x9+nA9ErHEZeZreDuiyocw8rAwcCZ7n5HNPnZDi5uvLu/Ev3/gpmtBZxkZme4e84vv2p4D+Jw91GlKFNCb7j7exnP7zSz+wk/XPoBp3ViLEtx93GduLrMz1xVc/dKJ+dlVLzZQEorTxPV8WY2yszmmdlsM3vLzE6O5g0E9gP2ymhKGZhRd3cz6x/V/dLMBpjZ7jnWe3rUJLXQzF4zs2+20Xy2r5ndb2ZfAK9G83YzswfM7JOoKfFtM7souykxamYaYmbfMrM3orKjzGyPqHn4IjObYmafR00vK8V42zx6fD32Gx1f+hf6ZlnxHx7FvYjoqMHMVjaz681sspktit6D35qZ5VjuKtHrmxU1395tZmtkFjCzU81sWPRefGFmr5jZYXniXN7MrjSzaWY238yesKwm9eztmUtmGQvN9H+LZrVmfL5WMLPpZnZVjvrpz8iWba0nH3d/EHgU+LmZdc1Yblczu9TMJprZ4ujvnzObTjOaF4+ItsOMKM67zGzVrDhPN7Px0edvlpkNN7OjM+YvaQ41s5OAf0ez3s14H3pG++LDOd6HdCyHduR9yLGc/bOm52vKvsvM+kav7cvode2dY7n7mdnzFr5PvjSz0Wb202he+jJkf854redG85ZpDjWzdS10RcyIPvdvmtmJeeLdM/qsz4n2k2vNbMVi3iMdCdaOZjPL3l7N7VWKPsB3AdcSmvqagC2B9E59SjS/GTg5mjYnqrs9MAgYR2gydeBsYJCZ7enuo6NyPwOuBm4j/ArfFLgnYx3Z7iY0W32Prz6DGwFvALcDc4FtgP8DNgH6ZtXfDLiM0Nwyj/Cr/7Ho0RLFulVUZhrwh7beI3efa2aPEL44n3b3x9oqX6CNo79fZEzbnLA9LgA+AD6PvoyfBHYmvO63CM17VwJrAn/KWu7VQH/g+4TkfRGwHnBARpmewK3AJML7cjjwhJl9x92fzlreOYT3/8fAWtHynjOzbdy9tQOvm2jdGwA/JTQvJwHcfZGZ/Rv4mZmd4+4LM+qcDAxy9wkdXCfAU8BRwK7AS9F+8yywNeE9f4vQ1P1XYHXgzKz61wBPAMcDWxA+X0ngRwBmdgJwBXA+MBjoQmhKz9ff9yShOfgvfNWEC6HL4h/ANWa2nrtPzqhzMjAReC7G623K+m5wd0/GqJfLPoTX/FdgIeH9esLMerr7FwBmdiTwIPByFOcMwv76tWgZ3wCGEfblm6Np6de8FAs/UgcBqxE+4x8DJxKO6ru6+y1ZVe4kfHccE63nXGAWX/3YKpy761HFD75KPm09zs1Rvmf0/Czg83bWMRAYkmP6A4Qv71Uzpq1M6NN4KHreFH1wn8qqe0wUx+05YruqnXiM8KV9IqEfaY2sWFuBTTKmHREtt3/Wch4CJsZ4jzcARgHvAAuAXh3YTvtHMRwSxb4yIcnPA0ZlxZ8Cdsyq3zuqf1LW9FuBRUCPrPU8k1XuhGj6gXnia4rieg54NGN6z6jeOKApY/pe0fSfZkyblGd79myjzLlRmZaseDYmJJYfZEzbPirbN+Y+sVme+YdG8/tEz38QPd83q9yfgcXAWlnv7X+yyl1PSAiW8XxkjH1qYHsxA90JPzr/mjGtR7TNz475mct+fJKjzP553sPsbTcLWC1j2q5RueMz9s1JwPDMz0uO2Bz4e47ptwOTMp6fmie+/oQfsM1Z8Z6XVe4J4J1C99fMh5pDa8fRwG5Zjz1j1HsdWC1q5uid3azTjn2BJzz6BQjg7nMIR1z7RZM2iB7ZA0geBRJ5lpur+WflqLnqfcIXQCvhV5+xbDPlO+7+Qcbz9FFDdj/eBGADs5zNien1Lg88TUiC2xG+vB41sz0zytxqZm/lW0aWZ6PYZxPekxcJRyWZJrn7G1nT9iUkx3uzpt8FLE/41Zvpf1nP74/qLylnZrtEzZpTCduildD3uUWOuB9w9yUDV9z9ZcKv9+z1loS7TyS8VydnTD6Z0J/9UJGLT2/vdLPct4APgaEWmsxboiOn54DlWHY/ejLr+VuEwTdrR89fB3Y0s+vM7KDMZtdCuftcwjb+WUbT7I+j1/DvvBWX9muW/l74TkfjAYa5+6yM5+nP/UbR3y0IR3y3Zn5eirAv8Km7D8yafhehBWTrrOm5ts1GFEHNobVjjC89CIAczaPLcPdBFob6n0aUfMxsEPA7d3+zneqrk3uU6WeE5guAdaO/07LWmzSzGXmWm2uZ/wYOIjQFvgF8CewO3ABkt/nPynq+uI3pLYSm3nwJ+ShgW+AoD810RxN+XT5lZgcAbwLfJCTKOH4NvEY4opzk7l/mKJPr9a9OOGLPHiDzWcb8TFMzn7j7YjObBawPYGYbAgMIR3inAR8R3oMLCE3F2abmmbZ+jumlciPwuJltS2j6OxG4yd0Xt12tXRtGf9Pv81qEL+58zbprZD3PHsCU3ibpz+Ed0f8/JXQntJrZU4R9alIH4r0R+BXwHTN7EvgF8LC759omubzj7sM7sN5clnrt0T4BX7329HuVs3mzA9r6jknPzxsfYdusUEwASoINwN0fAB4ws26E5pFLgWfMbIN2fs19DqyTY/o6fPVhzPyiWcLMmgnNOjlDyiq7InAkoVn3mozp27URW6lsEv2dDeDuC83sCELSe47Qd7cx8Yd1x/lCynX/ss+B1c1s+awkkH7/Z2aVXzvzSXREuxrwaTTpW8AqwHHu/klGuXxHLWvnmZZ9xFpKTxGa1k4GRhOaBrP7gDriMELz5Yjo+UxCkj0uT/lJhSzcQzvczcDNZrYaoQn8CuA+YI9Cg3X3MWY2mPA+LCT0eZ/cdq3Y0v2ty2dNz078caV/2Jbqx9Hn5G6ZyPe5Lzk1hzYQd5/n7k8QduB1+WpHWETo3M82CDjMzLqnJ0T/Hx7Ng/CL8BNCh3+mo4j/I2sFwtFa9i/1k2LWL8bY6O8J6QnuPp/wRfoRYUDDJe7+UZnjGETYH7PfxxMIR7TZQ+Czv9CPjeoPi56nk92S99TMNif09eXyPVt6pORehGbuYXnKx5U+ilrm8xX9ALuZ0Gd3KqFPt6gh9GZ2DKGP+KZoOwI8Qzg6nOfuw3M88rVYtMvdZ7n7fYTm6W3bKJr3fYjcCHyb0If6jrtnn1/XUR9Gf7Nj62iT6TuEHw0/a6ubgfCZjXORiEGELovsz+XxhNal8R0JshA6EqxzZnY+4Rf9i8BkwhfbbwjnWKXPJxwHnGJmfQgn2c5197cJTWe9gQFmdinhCOaPhC/Y8yF8kZnZecA/zexWQt/UJoRRpLOJcYK0u882s1eAM81sCuHX5k8ob1Nc2pOETvjLzWwTwhfmcoRRltsREvwvzezu7OboEnsaGALcZGZrEpLzd4CfARfn+KLeJhph+V/CaNMLCaMqB0Tz+xOaP+8wsysIP3rOIyT2XD9+uwOPmNnNhL6Yi4F3CU1/xUifL3emmT0NJLOOlG8jfPHvAHy3wGXvaGY9CEc5GxE+q8cCzxNGu6bdTehnGxC9F6OjOpsSEuZRGQmzXWZ2C2EE8zDCF/XmhETe1kjO9PvwazP7D+HHyZsZR/0PEkb87sWyo1U7zN2nRN0f50TdE9MIzc6bdnB5bmZnEPptXzCzmwj9uFsRBhilR2mOI/yAfobQTTHZlx79mnY7cDrwkJn9mbC/nUDouz7ZOz7KNb5iRtXoUf4HbYyEI/yIaW906GGEAQhTCL9GPyZ88ayXUWcdQtPU3KjuwIx5exC+UOcR+ukGALvniOUMwq/OhYSRY3sTPvxXxXwtPQmJYC5hR70+in2pkWPkGMnKVyMcf5Y1/VxyjEzMse4VCEPCJxB+wc6K3o+DCX0S6V+/G7axjP2jdR3UzrqWiT9j3srR654SxfEO8FuiUYlZ6zmG8AXyRfSe3UM0gjSj7HHRa1pISKp9WXZ0Xvq9O4VwOsZ0YD7hx8HGWcubROGjQ5sJ/brTCD+IPMfrfpbwA63N7ZRjvenHguiz9zAhCVqOOitGn4cJhP3gc8IAl3PT6823DbNfJ+FUiYHRa1pEaGq9Clg5azsPzFrO3wjN1cns9y2af3O0rdaI+T7E/cxtADwefVY+I5z+8rM82+6uHPWX+o6JpvUi/LCeFz1GAz/OmL8XoTl6YWb97M9fNG1dwiC4GdH7+SZwYp5tkD269txcn6lCHukhvyIlZWa7EQaI/NDd76x0PFKdoj61j4Cr3f2vlY6nUqJBbu8Bg939B5WOp5GoOVSKZmYbE0ZFDiac87QV4cTXiYRmHpGlRE2+WxCawpoIfWINx8Il+7Yl9IFtSBhgI51ISVBKYQFhR/4hYYTiLEIT6tleQF+LNJTDCKfFfAT8yN0LueB7PdmZ0Kw4DTjdlz1/VMpMzaEiItKwdIqEiIg0LDWHVqEePXp4z549Kx2GiEhNGTFixAx3X7OQOkqCVahnz54MH16qqyCJiDQGM/uw/VJLU3OoiIg0LCVBERFpWEqCIiLSsJQERUSkYWlgjEipucO08fDBQEglYOX1YMvDYLk4F9UXkc6kJChSaqPvhXGPLj3tvf6w9+9gzc0rE5OI5KTmUJFSmjxq2QQIsGAWvPh3mP5258ckInkpCYqU0uRR+eclFsGLF8K0CZ0Xj4i0SUlQpJS++Ljt+YlFMPCi0GcoIhWnJChSUjEuSJ9YBAMvhqnj2i8rImWlgTEiZdR//NSlnh+01drhn3Qi3P9sWHubCkQmIqAjQZHKSS4OifCzMZWORKRhKQmKVFKyFQZdAp+9VelIRBqSkqBIpSVbYdClMOXNSkci0nDUJyjSifL2ESZb4aV+sO/vYd0dKhCZSGPSkaBItUi2wqB+bZ9rKCIlpSQoUk1SCXjpcvh0ZKUjEWkISoIincix9gulEjD4Cvh0RPkDEmlw6hMU6UT3JntxRPNQurEAWLaPEKJ+wlQCBl8ZLrq9wS6dHaZIw9CRoEgn+sTX5LLWPsyla/uFUwkYciV8Mrz8gYk0KCVBkU72KYUmwqvg49fLH5hIA1ISFKmAyfSgX2tf5rBS+4WXJMLXyh+YSINREhSpkCmsQb/WPsyOkwg9CUOuho9eLX9gIg1ESVCkgj5jDfq19mU23ZZM6z9+6lKPJTwJL18NHw6rQKQi9UlJUKTCprJ6dETYrf3CnoKh1yoRipSIkqBIFZjK6lza2pcv6N5+4XQinPRy+QMTqXM6T1CkSkxjNS5t7cMfWu5jNZu7ZHrO6416CoZeBzj03LuTIxWpHzoSFKki01mNfok+zPIYR4Q4DL0eJr5U9rhE6pWSoEiVCYmwL5/7yjFKOwy7ET4YVPa4ROqRkqBIFZrOqvRL9GWmrxKjtMMr/4APBpY7LJG6oyQoUqVmsAr9En0KSIQ3wfsvlj0ukXqigTEiVWxmlAh/33IfPWw20MaNeXF49ebwd9NenRuoSI3SkaBIlQuJsC/TfdUYpaNE+F7/ssclUg+UBEVqwOesTL9EH6bFSoTAa/+Ed5UIRdqjJChSI2axMpcVkghf/ye8+3x5gxKpceoTFKkhs1iZfom+/KHlPtayWUBbfYTA67eCO2x+SGeGKVIzdCQoUmO+oDuXJvoy1VePV2H4bfD2M+UNSqRGKQmK1KDZdKNfog+fxU2EI/4NE54qb1AiNUhJUKRGpRPhFF8jXoWR/4EJT5Y3KJEaoz5BkRo2h25cFp1HuK7NBNrpIxx5R+gj3Kp3Z4YpUrV0JChS4+awEv0SfZnsPeJVGHUnjH+8vEGJ1AglwRIzs25mdp6ZPWVm083MzezsSscl9W0uXbks0YdPfM14FUbdBeMeLW9QIjVASbD0egD/B2wHjKpwLNJA5tKVKxLHxU+Eb9wDYx8pb1AiVU59gqU3BVjf3SebWU9gYmXDkUYyl65cnjiOM1vuZ0ObBrTTRzj63nCD3m2P6cwwRaqGjgRLzN0XufvkSschjWtelAg/9rXiVXjzPhjzYHmDEqlSSoIidehLuhSYCP8Hbz1Q3qBEqlBdJ0Ez625mR5jZBWb2tJnNiAaquJltGXMZ65jZNWb2vpktNLOpZva4mR1Y7vhFipFOhB/6OktN7z9+6lKPJd66H968v5OjFKmsuk6CwIHAo8BfgG8BMc8qDsxse2AM8BtgE2ARYeBLb+B5jfqUavclXbgicSyTshJhXmMeCEeF7uUNTKRK1HsSBJgGPAWcB/wibiUz6wI8Rkico4Bt3X0VYDXgCsCAi81MVyaWqjafFbkicSwTfd14FcY8GPoJlQilAdR7Enzc3dd298Pc/VygkPvKnAx8DZgHHO7uYwHcfY67nwWkx5ZfXMqARcphAStyZeJ7fODrxasw9mEY/V8lQql7dZ0E3T1ZRPUTor/3uPunOeZfFv3dOW7/okglpRPh+3ET4bhHolMolAilfuk8wRzMrDuwS/T02TzFXgFmA6sAvYAJnRCaSFEWsgJXJb7HGS0PspmF33Ztnkc47tFwHuGOJ4BZZ4Yq0imUBHPbitDnBzA2VwF3T5nZ28DuwNaZ88zsVGDV6AFwgJml3+vr3H126UMWiSedCH/b8sCSRNim8Y+Ho8GdTlQilLqjJJhb5giCtk58T8/LHnFwFqE/Me2Q6AFwF+EIUqRiFrH8kiPCr9sn7VeY8EQ4Itz5h0qEUlfquk+wCCtl/L+gjXLzo7/dMie6e093tzyPSbkWZGa/MLPhZjZ8+vTpxUUvEsMilufqxHd5xzeMV+Htp8I9CdVHKHVESTC3Tv+p6+63uPuu7r7rmmvGvACySJEWsTzXJI7h7YxEmPdkeoC3n4YRtysRSt1QEsxtXsb/Xdoo1zVHeZGasojluTZxDBN8o3gV3nkGhv9LiVDqgpJgbpn9gG2NJ0/Pm1LGWETKruBE+O5zMPw2JUKpeRoYk9sEwAnNotsAb2cXMLMmYIvo6bjOC02kPBazHNcmjuHUlofZ2j5cMj3vKRTvPh+S4G4/02AZqVk6EszB3ecCw6OnB+cptgfhHEGAAWUPSqQTLGY5rkscw1jvGa/Ce/3htX/qiFBqlpJgfvdEf08ws1wXXTwr+jvC3Zc5UhSpVa20cH3iaMb4xvEqvD8AXr1ZiVBqUt0nQTPrkX4QLn6dtmrmvKh5M9PNwIdAd+AJM9s6Wl53M+sHpG/F/adyvwaRztZKCzckjoqfCD94EV69SYlQak4j9AnmO+luWNbzjYFJ6SfuvsDMjiQ0de4MjDWzOYRzApsIfYZ/cvfnSh6xSBUIR4RHcUrzY2zf9H77FT4YGJLgHr+Eprr/fS11ohGSYIe5+2gz2xY4h3APwfWBmcBrwFXurr5AqWsJWrgxeQSn8FUiXObcQTIGy0wcBDjs8SslQqkJdZ8E3b2oYWvu/hlwevQQaTjpRPhLHmfHpvfarzDxpXBEuOcpSoRS9fQJFZF2JWjhH8kjeCO1WbwKkwbDsOshVczdzETKr0NHgmZmwEGE0wf2BTYCehCuszkNeAN4AXgsz734RKTGJGnmH8kjOJnH2bnp3aXm5TyX8MOXAYdvnApNzZ0YqUh8BR0JmllXMzsb+AB4hnCawO6EWwZNAxLAJsB3gRuAiWb2oJl9s6RRi0hFJGnm5uThjExtHq/Ch0Nh6HU6IpSqFTsJmtmPgXeBiwhHfOcRjgRXdfeu7r6Bu69BOLrcGvgJ8CDwbWCwmd1nZjGvySQi1Sokwt6MSG3RfmGAj4bB0GshmShvYCIdUMiR4G3Aq8Ae7r61u5/v7gPcfU5mIQ8muPvt7v59YB3gDGBv4KRSBS4ilZOkmVuShzE8diJ8RYlQqlIhSXBXdz/G3V8vZAXuPsfdrwM2Bf5XUHQiUrVCIuzNa6kt41X4+FUYeo0SoVSV2ANj3H1kMSty94WEC1OLSJ1I0cStycNwjD2axi+Znvei2x+/Bi9fBXv9Fprr/gwtqQGF9AnqTq8isoyQCL/DsNTW8Sp8MhyGXKUjQqkKhTSHDjWzTcoWiYjULKeJfyW/HT8RfjochlwJydbyBibSjkKS4FOERLhz5kQz29fMXi5tWCJSa9KJcGhq23gVPh0Bg5UIpbJiJ0F3Px24HHjRzA4xsx3N7BngReCjcgUoIrXDaeLfyUN5OW4inDwSBl8BicXlDUwkj4J6pt39cjNrBp4g3HX9EWB7dx9bjuBEpPaERPgtHGPvpreANgbKAEweFRLhPmdCy/KdGapIQQNjNjSzm4HzgdeBRcCTSoAisizj9uShDE5tH6/4lDfgpct0RCidrpA+wXeBnYDe7r4XcARwlZn9uSyRiUiNM/6TPIRBqR3iFf/sTXipnxKhdKpCmkNPdPcH0k/c/QUz2x940szWd/dTSh6diNQ4487kwTjG/k1vLJmat3n0s7dCItz399CyQmcGKg2qkIExD+SYNhrYC9i/hDGJSF0x7koexMDUjvGKf/YWDLoUEovKG5YIJbifoLt/SEiEIiJ5hEQ4ILVz+0UBpo6FgZdA68LyhiUNr6P3E+wObAtsl/H3gBLGJSJ1x7g32QvHOKhpxFJzcjaPThsHgy6B/c6G5VbszEClgbSbBM1se5ZOdtsCGxJOkZgDjAHeLGOMIlI3jP8mD8AxDm4a3n7xaeNh4MWw/zlKhFIWbSZBM3sIOBJYDMwD1gAeA04D3oyaQkVECmDcl9wfBw6JkwinT4CBF0WJsEvZo5PG0l6f4GHAL4BuhKO/S4FDgQOBGeUNTUTql/G/5P48m9otXvHpb8OLF8Hi+eUNSxpOe0nwIuA+d0+6+0J3PwfYLXqMM7PDyh6hiNQp4/7kfjyT2j1e8RnvhCNCJUIpoTabQ939vBzTxgB7mdmvgLvM7FngN+4+rUwxikjdMh5I7ou78e3mV5dMzXse4Yx34cUL4YA/wfIrdWagUqc6fIqEu/8D2BpoRjfLFZEOMx5M7cOTyT3jFZ/5XtQ0+mV5w5KGUNR5gu4+xd2PBU4sUTwi0pCMh1N780TyG/GKz3wPXrhQiVCK1qEkGN1DcMl4ZXd/qnQhiUhjMh5J7cXjcRPh5++HRLhoXnnDkrrW0SPBF4GNShmIiAgYj6b25rFkzItQff4+vPB3WDS3vGFJ3erQFWMIJ8qLiJTFY6lv4sCRzS8D7dyPcNbEkAh7/QVW6N6JUUo9KPraoSIi5fB46ps8nNwnXuFZk2DABbBwTlljkvqjJCgiVevJ1J48FDcRfvEhvKBEKIVREhSRqvZUak8eTO4br/AXH0WJcHZ5g5K60dE+QRGRTvN0ag9SGMc2DwLa6SP84qPQNHrgX2HFVTozTKlBOhIUkZrwbGp37k/uH6/w7I+h/3mw4IuyxiS1T0lQRGrGs6nduC8Z89alcz6FAefDglnlDUpqWkebQy9Ed5EQkQp4PrUrjtG3+YUl0/I2j6YTYa+/QtfVOzNMqREdOhJ097+6++elDkZEJI7+qV24N9krXuE5k0MinK+vLFmWmkNFpCYNSO3C3cmD4hWeO0WJUHIqOgma2ZZm9iMzO8nMYv40ExEp3oupnbiroER4nhKhLKXDp0iYWRNwG/DD9CQglV6mmZm7e9ERioi0YWBqJ5wmftD8XPuF534G/c+FA/8GK61R9tik+hVzJPhH4EfAMOCXwIMsfU3Rb5rZJDOLOZRLRKRjBqV24I7kIUue9x8/dZnHEvOmwoBz4UuN7ZPikuCPgbeB/dz9n8CYzJnu/jKQAI4rYh0iIrG8lNqB25PfwuNc33/etHBEOG962eOS6lZMEvwa8LS7J9soMwL4ZhHrEBGJbUhqO/6TPDReIvxyejgiVCJsaMVcNm0OsEI7ZT4F1BwqIp1mSGo7Uhg/bn4G46thCTnPJfxyRkiEB54L3dbs3EClKhRzJPg6cFA0QCafFKCL94lIpxqa2pZ/Jb8d84hwRtQ0Oq3scUn1KSYJ3gZ8HTi/jTLbAzOLWIeISIcMS20TPxHOjxLh3KntFpX60uEk6O4PAvcB55jZg8DmmfPN7GjgIGBIURGKiHTQsNQ23Jb8TsxEODOcRzj3s/IHJlWj2FspnUA40vtVeoKZvQj0ALYGWoFLi1yHiEiHvZLampQbP295cqk+wpzmzwx3nzjob9B9nc4JUCqqqCvGuHvK3U8ljAC9l3BR7f2AbYC3gN7uPqLoKEVEivCab8Utid54nK+8BZ+HptE5U8oel1ReSa4d6u6vuvuJ7r420AXo6u47uvvzpVi+iEixXvctuTlxWMxEOCs0jc6ZXP7ApKJKfgFtd1/k7gtLvVwRkWIN9y35R+JwUnETYf/zYPan5Q9MKiZ2EjSzLsWurBTLEBEpxkjfnJsSh4M1LzU952XWFn4Rjghnf1KBSKUzFHIkONHMTjez9k6QX4aZ7WBmjwJnFVpXRKTURvrmHP3m7jw3fvqy1xbNtnB2dESoRFiPCkmCzwFXAlPM7B9mdqLHLn0AABmZSURBVEBbR3ZmtomZ/crMhgEjgR2AF4sLV0SkNEb517kxcSRJmtsvvGhOSIRffFT+wKRTxT5Fwt1/aGbXAhcBv4geSTMbD0wBZgErAmsAWxBOkzBgKvBn4Cp3X1Ta8EVEOu4N34wbE0dwSstjNLP0ZZCXvcwaMOAC6PUXWO1rnRillFNBA2Pcfbi7HwJsCVwGjCacD3gI0Ac4Etg7Kv4QcDywkbtfogQoItVotG/GDYUcEb5wAcz6sPyBSafo0OhQd3/X3c92990I1wbdgnCu4E7A+u6+trsf6+7/dffWEsYrIlJyb/qmXJ84KmYinAsDzodZk8oel5Rf0adIuPv8KCm+4u6j3V1nmIpIzXnLN+G6xFEk4vQSLZ4XmkY/n1j+wKSsSn6eoIhIrRpTaCJ84QL4/IPyByZl0+EkaGZvmNm/zew0M9vLzFYqZWAiIpUw1jfmusTRtGYlwpznES7+El74O8x8vwKRSikUcyS4KfAj4GrgJWC2mY03s7vN7MzoFArdS1BEas5Y75kzEeakRFjTikmCqwB3EU6D+JgwUnQV4PtAP6A/MNPMhpvZb82sa7HBioh0lnHek2sS342XCFvnh0Q4473yByYlVUwS/CPwPeBAd+/p7ru4+3rAVsB/CMnxHaAncAUw1sy2LzJeEZFOM8E34urEd1nMcu0Xbp0PL/4dZrxb/sCkZIpJgicD/3X3pa4C4+5vu/tPgNOA1QmnTfyIcPL8c2a2ZhHrFBHpVG8XlAgXhCPC6e+UPzApiWKS4NqEq8Hk5O43AO8Bv3f3O4GjgbWA3xaxThGRTveOb8jVie+yKE4iTCyEFy+E6W+XPzApWjFJ8APgwHbKDAGOAHD3/tHzw4tYp4hIRbzjG3JV4ntKhHWmmCR4J7CLmf2pjTLrRI+0N4CNi1iniEjFvOcbcGXi2JiJcFFIhNPGlz8w6bDYF9DO4SrCtUIvMLNdgAvdfWR6ppkdQLie6McZdVrRCfoiUsPe9/W5MnEsPv4BVmRxu+UXvfUbrkl8l+cu/mUnRCeF6nBCii6IfSBwL6G/73Uzm2ZmI8zsA8IpEisQziNM2xSYWUS8Vc/MupnZeWb2lJlNNzM3s7MrHZeIlE46ES6k/durrkArZ7Q8CFPHdUJkUqiijsqi64aeSLh49j1AijAadANgPPCDaIAM0ajQQ4FXi4q4+vUA/g/YDhhV4VhEpEw+8PW4MvG9WIlweVph4MXw2ZhOiEwKUZKmyeji2T9w93WALkAXd9/W3e/OKDYT2A1oqw+xHkwh3EljQ8I9F0WkTn3g63FF4lgWxEiEJBfDoEuUCKtM0UnQzFaJLpF2kJlt7u6L3D2ZXc7dU+4+xt3r+gSa6PVPrnQcItI5Jvq6BSTC1pAIp7xZ/sAklqKSYNTXNYXQ//csMN7MppjZhWbWvRQBiohUu0m+Lpcl+jCfFdsvnGyFl/rBlNHlD0zaVcxdJH4IXATMJ5wucTVwH6Ff8BxglJmV5HQIM+tuZkeY2QVm9rSZzYgGnLiZbRlzGeuY2TVm9r6ZLTSzqWb2uJm1d66jiEi7PvK1uSxxHF/Spf3CyVYY1A8mv1H+wKRNxRwJnkE4CtzC3U9y9zPd/XhgQ+DnhCvKPF+iWywdCDwK/AX4FrBGIZWja5aOAX4DbAIsIgxg6R3FqNGbIlK0j31tLk8cGy8RphLw0mUwWePnKqmYJLgl8LC7L3XKQ9T3dxtwFOHE+DOLWEemacBTwHkUMODEzLoAjxES5yhgW3dfBViNcGFvAy42s0Oy6u2fcbTZ3uOgEr1GEalxH+c5Isx5P8JUAl66HD4dmWNJ0hmKOVl+PrAw30x3H2BmzwLfBc4vYj0Aj7v7I+knZtazgLonA18D5gGHu/unUXxzgLPMbFNCwr4YeC6j3jvAr2KuQ5eEEJElPvG1uCzRh7Na7qMbC9ounErA4Ctgn9/B+rt0ToCyRDFJcAztXzt0NLB3EesAINdo0wKcEP29J50As1xGSII7m9mW7j4hWudk4KYi1isiDewTX5PLWvtw1nL/ozvz2y6cSsDgK2Hv38EGSoSdqZjm0NuBHczsj22UWa+I5RctGqGa/kQ9m6fYK8Ds6P9eZQ9KRBrGp4REOJcY9xRPJWDIlfDJ8PIHJksUc9m024HngYvM7F4z2zFzvpn1Ao4DXisqwuJsRejzAxibq4C7p4D0pd63LsVKzexUM/sLcGo06QAz+0v0WKUU6xCR2jCZHvRr7cscYowRTB8RflzJr83GUuzJ8kcSBp30AUaY2SwzG2VmkwgJsoUwkKVS1s34v60T2NPz1m2jTCHOAi7gq0FBh0TPLyAMyBGRBjKFNbistU+8ROhJGHI1fFTvV5isDsVeO3Shux9NuGfgk4Sjrh0I1w59DTjU3QcXHWXHZX7i2uqdTjfYdyvFSt29p7tbnsekXHXM7BdmNtzMhk+fPr0UYYhIFZnCGvRr7cPsPIlwqdGj4ybz/D/PgY9e6eQoG0/sgTFm1hcYmeuyZ+7+BPBEVK4bsMjdW0sWZcdZ+0Wqg7vfAtwCsOuuu3qFwxGRMviMNejX2pc/LHffV6dJ5GGk4OVrwB2+9o1OirDxFHIkeA/hsmizzWyQmV1pZiea2dZmtiTZuPu8KkmAEE6LSGvr7NV0r/W8NsqIiBRtKqtzaWtfviDGlSU9BUOvhQ+Hlj+wBlXIKRJnEW6TtDOwF7APkD5iWWBmo4ERwMjoMbbIUxtKIbMfcD2+GgCTLT2KdUp5wxERgWmsxqWtffhDy32sZnPbLuwpePna8Ldn0WecSZbYSdDdr0z/b2ZdgR0Jpx/sHD12A77BV4lxkZm9BYxw91NKFnFhJkTxGLANOZKgmTUBW0RPdddLEekU01mNfom2E2Fmk6mP/ysH/+R82HifzgqxIXRoYEx0M92h7n6du//Y3XcAugN7Ek4L+BfhKio7Eq7YUhHuPhdIn3RzcJ5iewDp0xYGlD0oEZFISIR9+dxXbres4TDsBpj4UidE1jhKclNdWHIfvdfc/R/u/nN334Uw2nK3Uq2jg+6J/p5gZrlOgTgr+jvC3fM1l4qIlMV0VqVfoi8zPc4pxA7DboQPBpY7rIZRsiSYi7u3untJrgxrZj3SD5Y+127VzHlR82amm4EPCUeqT5jZ1tHyuptZP+CYqFy93/FeRKrUDFahX6JP/ET4yk1KhCVS1iRYYtMzHpmJdVjWvI0yK7n7AsJJ/TMJfZdjzWw28AXwe0Kf4TnunnnxbBGRTjWzI4nw/RfKHle9K+YC2jXD3Ueb2baEm/32BtYnJMXXgKvcXX2BIlJxM1mFSxN9+UPLf+lhs9sp7fS//Xz+k3yVwantAZh0yWHlD7LO1MyRYBtXYIl1RRZ3/8zdT3f3Td19RXdfy917KwGKSDX5nJW5NNGX6b5qrPI/an6W/ZpGlzmq+lUzSVBEpFHMYmX6JfowLWYi/EHzc0qEHaQkKCJShUIi7Ms0j3fN/R80PwfvaGhDoZQERUSq1Bd059JEX6b66vEqDL8N3sl361TJpSEGxoiI1KrZdFtyZZn2LroNwPB/hUusbfHt8gdXB3QkKCJS5WbTjUsTffgs7hHhiNthwpNljaleKAmKiNSAOXSjX6IvU3yNeBVG3qFEGIOSoIhIjZjDSlyW6MNk7xGvwsg7YPzj5Q2qxikJiojUkHQi/DRuIhx1F4x7rLxB1TAlQRGRGjOXrlye6MMnvma8Cm/cDWMfKW9QNUpJUESkBoVEeFz8RDj6Xhj7cHmDqkFKgiIiNWoeXbks0YePfa14FUb/F8Y8VN6gaoySoIhIDfuSLlyeOC5+InzzPnjrgfIGVUOUBEVEalw6EbLaxvEqvHW/EmFESVBEpA58SRfo9RdYfdN4Fd66H978H7iXN7AqpyQoIlIvVugGvf4cPxGOebDhE6GSoIhIPVl+pZAI19gsXvmxD4V+wgZNhEqCIiL1ZvmV4IA/FZAIHw6nUDRgItRdJERE6kTPs5e+Vuik8/8MAy+CGe/mLL/UXSnG38JB7rDj8WCWe3mXHFbagKuAjgRFROrV8l3hgD9Dj83jlR//WLjMWgMdESoJiojUs+W6hKbRNbeIV37CEzDqzoZJhEqCIiL1brkusP+fYM0t45Wf8GS4AwX1nwjVJygiUqeW6dO74BwYdAlMG99+5bef4vvN63Nvshdg5QmQyvc76khQRKRRLLci7Hc2rLV1rOIHNo3k+OYXqOcjQiVBEZFGstyKsP/ZsPY2sYr3ahrJic39qddEqCQoItJoWlaA/f7IOP9arOL7N70REmEdDpZREhQRaUQtK3Bd4piCEiGv31p3iVBJUESkQbXSwnWJYxjrMe8+8V5/eO2WukqEGh0qItIgskdiQkiE1yeO4tctj3AQ89us33/8VBh/L0MeG8PtyUOZdEnvdtdR7VeZ0ZGgiEiDa6WFGxJHwXo7xSq/d9Nb/KT5GUilyhxZ+SkJiogIrbTAPmfCejvHKv/NpjHw6k01nwiVBEVEJGheDvb5Hay/S7zyEwfBKzfWdCJUEhQRka80Lwd7/w7W3zVe+UmD4ZUbajYRKgmKiMjSmltg798yKvX1eOUnDYFh10MqWd64ykBJUEREltXcwk3JwxmZinkbpg9fhmHX00RtHREqCYqISE5Jmrk52buARDiUXzQ/UVOJUOcJiogIkPs8wnQi/DlPsmvT20vNW+rO9JFdm8K0fyYPI0lzrHVUko4ERUSkTUmauSXZm9dS8e5HuGvT25zc/ATNVH8foZKgiIi0K0UTtyYPi50Id256h5ObH4dkosyRFUdJUEREYkknwldS8e5HuHPTuzDkqqpOhEqCIiISW4ombkt+m2ExEyGfDochV0KytbyBdZCSoIiIFMRp4l/JbzMsFe/GvHw6AgZXZyJUEhQRkYKFRPgthqa2jVdh8kgYfAXLUV1No0qCIiLSIelEOCS1XbwKk0fx65ZHqioRKgmKiEgRjNuThzI4tX2s0tvaRE6tokSoJCgiIkUy/pM8hJdiJsJtbCKntjxcFYlQSVBERErAuCN5CINSO8QqvY1N4rSWh1ieyg6WURIUEZESMe5MHszA1I6xSm9tH3Jay8MVTYRKgiIiUkLGXcmDeCEV7w71W9mH/KblIVZgcZnjyk1JUERESsy4J9mLATET4Zb2EadXKBEqCYqISBkY9yZ7wRbfjlV6c/uY01segkTnJkIlQRERKRODnX8EW3wnVunJvgY0L1fmmJamJCgiIuVjBjv/ELbs3WaxQakduCt5UCjfiZQERUSkvMxgpxNhq8Nzzh6c2p47kwcDnZsAQUlQREQ6gxnseAJPJ/dYavKQ1Hb8J3kIlUiAoCQoIiKdxYwHU/vwVJQIh6a25fbkoVQqAQK0VGzNIiLSgIyHUvswyddhlG9GJRMgKAmKiEinM0b65pUOAlBzqIiINDAlQRERaVhKgiIi0rDM3Ssdg2Qxs+nAh0Usogcwo0ThSHG0LaqLtkd1KfX2+Jq7r1lIBSXBOmRmw91910rHIdoW1Ubbo7pUw/ZQc6iIiDQsJUEREWlYSoL16ZZKByBLaFtUF22P6lLx7aE+QRERaVg6EhQRkYalJCgiIg1LSVBERBqWkmAVMLNuZvaxmXn0OKmDyzEzO8HMBpjZTDNbaGYTzewmM9u4jXo9M9bd1qPuzq8ys5NivO55RSx/HTO7xszej7bHVDN73MwOjFF3eTP7g5m9YWbzzOwLMxtmZr8w6+Tbb3eSatwe2j9Kvz3MrLuZHWFmF5jZ02Y2I2N5W8ZcRkn2D91Fojr8HdigmAWY2XLA/cCR0aQEMBfoCZwMnGBmR7r7C+0samob81qLibHKtQKf55n3ZUcWaGbbAy8Aa0ST5hCukNEbOMzM/uTul+Spu3JUd5do0nygC7Bn9DjczI5290RHYqsBVbU9Mmj/WFZHtseBwMMdDaak+4e761HBB7AzIWG9Anj0OKkDy7kyqtsKnAF0jaZvAPwvmvcFsG6Ouj3T6670+1GB9/+k6LUPLPFyuwCTomWPBLaJpq8MXJ6xrQ/JU/++aP5Mwpe0Ac3Aj4AF0bwLK/3+NcL20P5Rlu1xFOEHxZPAucDPM7bBljHql2z/qPib3MgPQnP061ES3KmjSRBYC1gU1b00x/xmYFw0/4Yc87WTl34nPyNa7lxg/RzzH47mj8gxL/OzcESO+adH8+YDa1X6PWyA7aH9o/Tboznfe9xeEiz1/qE+wco6DdgV+Ie7jypiOb2A5aP/r8qe6e5J4Nro6fejplMprxOiv/e4+6c55l8W/d05Rx/I8dHft939sRx1bwFmE45ujik60sZQzPaQEou+kzqqpPuHkmCFmNn6wAWEJoG/FLm4r0V/Z7v7Z3nKTIj+rkZogpUyMbPufNVX8WyeYq8QdlQIP2IyHRD9fS5XRXdfAAzOU1eylGB7SHUp6f6hJFg51wHdgbPcfXZ7hduRvuxPW9szcxDUNvkKRaOr5pjZgmhk6V1mtneR8dWCbcxsbPS655rZGDO7qq1RtW3YitBHATA2VwF3TwFvR0+3Tk+PRrWlj0Ry1o2My65bZ6pie2TT/lGS7dFh5dg/lAQrwMwOB44mtLPfVYJFpu892N3MNsxTJvPDsF4by9oTSEX/9yQ0Iw02s6vrdVh+pAfhy3I+sCLhh8IZwFgzO76tijmsm/H/5DbKpedlll8ZWKmDdetJtWyPbNo/it8exSj5/qEk2MnMbCXgesIozl+XaLEvAouj//+YY53LEz6wad2ziiwEbgT2Bbq7+6pAV0IT0uNRmdOBc0oUbzWZDPwN2BZY0d3XALoBhxF+TXYB7jCzfQtY5koZ/y9oo9z86G+3EtWtB9W2PUD7R6m3RzFKv39UevRRoz2AK8g/irOYUySuieqmgAsJp0YsRxhJ1T+atzj6e3GBy06fYjEPWLXS72EnbqtVgHej1z60gHonZGzLljbK3R2VeTZj2voZdQ9so256SPmiSr9P9bw9Yi5f+0cB2yPPsnpmbKO8o0PLsX/oSLATmdmOhF+MHwPnl3jxfyD8KjXgT9E6FhPOiToQuAH4ICr7RYHLTh9drhQtqyF46Ku9KHq6p5mtGbNq5hU0urRRrmuO8vNyzI9bt65VaHvEof2jsO1RjJLvH0qCnesawjl7fyb08XbLfGSUWyGa1tZGXoq7LyJcLeY44FHgPWAi8DRhmPAZwEZR8XcLCdrdJwLTo6ebFFK3Drwa/TXCr9U4Mvsq2up/Tc+bkjFtDl9dgaPQuo2gs7dHu7R/AIVtj2KUfP9QEuxc6VMZ7iCctJv9SLspej6OAnhwv7sf5e5fd/dN3P077v4w4bSI9K/gVzoQe7rT39ssVX8yBzvEfe0TMsrmHIlrZk3AFtHTJdvZQ1vO+LbqRtIDnQr6jNSBTt0eHYhL+0cZlWP/UBJsHD+O/g5097ZGVS0jGgbdI3o6qZRB1YDdM/7/MG+pDO4+FxgePT04T7E9CH0qAAOy5r3YVl0zWxHYJ0/deleJ7dEm7R9LxNoeJVDa/aPSnat6LNWZ2+GBMe0s9xuE0aj5ro1o7dS/l68uQ7R6pd+nEr4v7b3ulQnnjjnwaoHLTl+maw65r9f6YDR/eI55mZeF6p1j/mkZ26NuLptWxdtD+0eJt0eOZfXM+MwXctm0ovePir/Reiy18fImwawPSa75BwC/JfRJNEfTVos+EHOiejfnWe8gwvDubTPqWvRhezhjvX+r9HtU4ve7J6Fp+KfARhnTlwe+BbwVve4k0KvA7ZF5weYRwNbR9O5Av4y67V1AewbwnWhaM/DDaOd26uwC2tW6PbR/lH57RGV6ZDwyE9ueWfOactQt2f5R8Tdaj6U2bDFJ8KSM+a3ALMLpEulp/yTrorUZdSdllFscfbDmZ0xzwhVu2vxlWGuPrPfUCecdzeCrU0mc0An/g0K3R1Rmh2h56XKzoy8Mj7bN2W3EtjKhCS8zjoUZzx+njeH+tfio1u2h/aNs28NjPnrmqFuy/UP3E6wfQwijT/cljALtDnwCvAzc4u4vtlH394T29d2BdYDVCR/0tzPqv5q/es2aCvwG2JvwBbkmoV/oS8II2gGEi5t3qK/D3Ueb2baEo4jehHOcZgKvAVe5e97+CnefY2bfJBzdfx/YjHCnkFHAv4F/evRtUEeqdXto/yjD9ihGKfcPq7/9SEREJB6NDhURkYalJCgiIg1LSVBERBqWkqCIiDQsJUEREWlYSoIiItKwlARFRKRhKQmKiEjDUhIUEZGGpSQoIiINS0lQREQalpKgiIg0LCVBEcnLzB4xMzez03LMuyCad2slYhMpBd1FQkTyMrPVCbenWRv4hruPiqYfCDwHTAB2c/f5lYtSpOOUBEWkTdF92wYBE4Gdga7AaMK95XZz97EVDE+kKGoOFZE2uftQ4K/A14GbgbsIN5f9jRKg1DodCYpIu8zMgKeBQ6NJ97r78RUMSaQkdCQoIu3y8Gv54YxJV1cqFpFS0pGgiLTLzL4OjARaCX2BY4Hd3X1hRQMTKZKOBEWkTWa2AnAfsBLQF7gY2A4dDUodUBIUkfZcDuwE9HP354C/AS8DJ5vZcRWNTKRIag4VkbzM7ChCX+CrwN7unoimbwi8AbQAO7n7B5WLUqTjlARFJCcz24iQ6JoIiW5i1vwjgUeA1wkJcnHnRylSHCVBERFpWOoTFBGRhqUkKCIiDUtJUEREGpaSoIiINCwlQRERaVhKgiIi0rCUBEVEpGEpCYqISMNSEhQRkYb1/z8YIWN1p+pPAAAAAElFTkSuQmCC\n",
      "text/plain": [
       "<Figure size 432x288 with 1 Axes>"
      ]
     },
     "metadata": {
      "needs_background": "light"
     },
     "output_type": "display_data"
    }
   ],
   "source": [
    "#-----Plot 3-----\n",
    "fig, ax = plt.subplots(1, 1)\n",
    "ax.hist(d,50, density=True)\n",
    "plt.yscale('log')\n",
    "plt.tick_params(labelsize = 24)\n",
    "\n",
    "#Setting plot title and lables\n",
    "ax.set_xlabel('x', size = 20)\n",
    "ax.set_ylabel('$log( e^{-\\lambda x} )$', size = 20)\n",
    "ax.set_title('Histogram & Probability Density Function', size = 16)\n",
    "\n",
    "x = np.linspace(4.95,5.1,1000)\n",
    "ax.plot(x,stats.expon.pdf(x,loc = 5., scale = 0.01),linewidth = 8,alpha = 0.7)\n",
    "plt.show()"
   ]
  },
  {
   "cell_type": "markdown",
   "metadata": {},
   "source": [
    "#### 3. Signal-free data - Exponential Distribution\n",
    "Immagine that there is some signal-free data (background noise data) follows an exponential distribution. \n",
    "#### 3. A\n",
    "Value selected: My hypothetical measurement value is the probability that data points lay Z ('sigma') = 0.3 away from the mean. \n",
    "\n",
    "#### 3. B\n",
    "**Statistical question:** There is no signal, and the signal-free background noise data has an exponential distribution. What is the probability that the data produces a signal that is equally or more signal-like than the data observed? \n",
    "\n",
    "I want to measure the probability that datapoints lay z = 0.3 away from the mean of my exponentially distributed data. \n",
    "\n",
    "#### 3. C\n",
    "**Convert word question into mathmatical integral:**\n",
    "\n",
    "The **cumulative distribution function (cdf)** an exponential distribution is:\n",
    "\n",
    "$$cdf(x) = 1 - e^{-\\lambda x}$$\n",
    "\n",
    "The **probability density funciton (pdf)** then is the derivative of the cdf:\n",
    "\n",
    "$$pdf(x) = \\lambda e^{-\\lambda x}$$\n",
    "\n",
    "Integrals of the probability density function give probabilities:\n",
    "\n",
    "\n",
    "$$P(x) = \\int\\limits_{-\\infty}^x pdf(x) dx = \\int\\limits_{-\\infty}^x \\lambda e^{-\\lambda x} dx$$\n",
    "\n",
    "\n",
    "#### 3. D\n",
    "Calculate the probability that the backgroud produced the signal using the cdf for an exponential distribution."
   ]
  },
  {
   "cell_type": "code",
   "execution_count": 84,
   "metadata": {},
   "outputs": [
    {
     "name": "stdout",
     "output_type": "stream",
     "text": [
      "intput: Z ('sigma') value =  0.3\n",
      "output: probability that background produced signal =  0.2591817793182821\n"
     ]
    }
   ],
   "source": [
    "#Defining Variables\n",
    "z = 0.3;\n",
    "mu = 0;\n",
    "sigma = 1;\n",
    "\n",
    "#cumulative from mean function variable\n",
    "cumulative_from_mean = stats.expon.cdf(z, mu, sigma)\n",
    "\n",
    "#prints input and output of cumulative from mean function\n",
    "print(\"intput: Z ('sigma') value = \", z)\n",
    "print(\"output: probability that background produced signal = \", cumulative_from_mean)"
   ]
  },
  {
   "cell_type": "markdown",
   "metadata": {},
   "source": [
    "#### 3. E\n",
    "Convert found probability into an equivalent Z ('sigma')."
   ]
  },
  {
   "cell_type": "code",
   "execution_count": 85,
   "metadata": {},
   "outputs": [
    {
     "name": "stdout",
     "output_type": "stream",
     "text": [
      "Input probability value =  0.2591817793182821\n",
      "Output z ('sigma') value =  0.3\n"
     ]
    }
   ],
   "source": [
    "#define probability sigma\n",
    "probability_input = stats.expon.cdf(z, mu, sigma)\n",
    "print(\"Input probability value = \", probability_input);\n",
    "\n",
    "ppf = stats.expon.ppf(probability_input);\n",
    "print(\"Output z ('sigma') value = \", ppf);"
   ]
  },
  {
   "cell_type": "markdown",
   "metadata": {},
   "source": [
    "#### 3. E\n",
    "After exploring with different hypothetical measurement values, there were different patterns that emerged in how the probabilities and coresponding Z ('sigmas') values changed.\n",
    "\n",
    "After testing multiple different vlaues of Z ('sigma'), we see that negative values of Z corespond to zero probability. This is because in an exponential distribution, there is zero probability of finding data to the left of the mean of the distribution. \n",
    "\n",
    "Increasing the value of Z increases the probability that you will find data points within the range from $-\\infty$ to some point Z. This is because exponential functions often have a long tail that stretches out towards positive $\\infty$. "
   ]
  },
  {
   "cell_type": "markdown",
   "metadata": {},
   "source": [
    "## Non-continuous distributions \n",
    "\n",
    "### 1. A\n",
    "The **Binomial distribution** is a discrete probability distribution. Note \"bi\" means two. Out of n independent experients, each asking a yes or no question with a boolean true or false outcome, the Binomial distribution represents the probability distribution of the number of successes in a sequence. \n",
    "\n",
    "There is no probability density function for a binomial distribution, because it is discontinuous, so instead we have a probability mass function.\n",
    "\n",
    "The general binomial **probability mass function**, for the probability of k out of n ways is:\n",
    "\n",
    "$$f(k,n,p) = \\binom{n}{k} \\cdot p^k(1-p)^{n-k}$$\n",
    "\n",
    "- P is a continuous probability value between 0 and 1, the success probability for each trial\n",
    "- k is the individual trial k = 0, 1, 2, ... n.\n",
    "- n is the total number of trials\n"
   ]
  },
  {
   "cell_type": "markdown",
   "metadata": {},
   "source": [
    "\n",
    "### 1. B\n",
    "Below are a series of histogram plots of binomial distributions.\n",
    "\n",
    "- Plot 1: This plot has a probability p=0.25, with n=10\n",
    "\n",
    "- Plot 2: This plot has a probability p=0.50, with n=10\n",
    "\n",
    "- Plot 3: This plot has a probability p=0.75, with n=10"
   ]
  },
  {
   "cell_type": "code",
   "execution_count": 325,
   "metadata": {},
   "outputs": [
    {
     "data": {
      "image/png": "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\n",
      "text/plain": [
       "<Figure size 432x288 with 1 Axes>"
      ]
     },
     "metadata": {
      "needs_background": "light"
     },
     "output_type": "display_data"
    }
   ],
   "source": [
    "#---Plot 1---\n",
    "n_total = 50\n",
    "\n",
    "#making random binomial distibution\n",
    "binomial=stats.binom(n_total,p=0.5)\n",
    "\n",
    "#Generates a discrete set of numbers from zero to ten\n",
    "n=np.arange(0,n_total+1)\n",
    "\n",
    "\n",
    "#Samples 1000 random numbers from of a binomial create histogram\n",
    "binomial_sample=binomial.rvs(size=1000, random_state=143)\n",
    "\n",
    "plt.hist(binomial_sample,bins=len(n),range=(0,len(n)),density=True, rwidth=0.75)\n",
    "plt.title(\"Plot 1: Binomial Distribution: n=50, p=0.5\", size = 16)\n",
    "plt.ylabel(\"pmf(k)\", size = 16)\n",
    "plt.xlabel(\"k\", size = 16)\n",
    "#plt.xticks(n)\n",
    "plt.show()"
   ]
  },
  {
   "cell_type": "markdown",
   "metadata": {},
   "source": [
    "In plot 1 above, we can see that with a 0.5 probability of success rate for each trial, the gaussian distribution centered at right near 25. Notice that 25 = 50/2 = n*(0.5)."
   ]
  },
  {
   "cell_type": "code",
   "execution_count": 319,
   "metadata": {},
   "outputs": [
    {
     "data": {
      "image/png": "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\n",
      "text/plain": [
       "<Figure size 432x288 with 1 Axes>"
      ]
     },
     "metadata": {
      "needs_background": "light"
     },
     "output_type": "display_data"
    }
   ],
   "source": [
    "#---Plot 2----\n",
    "n_total = 10\n",
    "\n",
    "#making random binomial distibution\n",
    "binomial=stats.binom(n_total,p=0.75)\n",
    "\n",
    "#Generates a discrete set of numbers from zero to ten\n",
    "n=np.arange(0,n_total+1)\n",
    "\n",
    "#Graph with histogram and histogram together\n",
    "binomial_sample=binomial.rvs(size=1000)\n",
    "plt.hist(binomial_sample,bins=len(n),range=(0,len(n)),density=True,align='left',rwidth=0.75)\n",
    "plt.title(\"Plot 2: Binomial Distribution: n=10, p=0.75\", size = 16)\n",
    "plt.ylabel(\"pmf(k)\", size = 16)\n",
    "plt.xlabel(\"k\", size = 16)\n",
    "plt.xticks(n)\n",
    "plt.show()"
   ]
  },
  {
   "cell_type": "markdown",
   "metadata": {},
   "source": [
    "In plot 2 above, we can see that when the success rate is higher (p=0.75), it shifts the distribution to the right"
   ]
  },
  {
   "cell_type": "code",
   "execution_count": 328,
   "metadata": {},
   "outputs": [
    {
     "data": {
      "image/png": "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\n",
      "text/plain": [
       "<Figure size 432x288 with 1 Axes>"
      ]
     },
     "metadata": {
      "needs_background": "light"
     },
     "output_type": "display_data"
    }
   ],
   "source": [
    "#---Plot 3---\n",
    "n_total = 10\n",
    "\n",
    "#making random binomial distibution\n",
    "binomial=stats.binom(n_total,p=0.25)\n",
    "\n",
    "#Generates a discrete set of numbers from zero to ten\n",
    "n=np.arange(0,n_total+1)\n",
    "\n",
    "#Graph with histogram and histogram together\n",
    "binomial_sample=binomial.rvs(size=1000)\n",
    "plt.hist(binomial_sample,bins=len(n),range=(0,len(n)),density=True,align='left',rwidth=0.75)\n",
    "plt.title(\"Plot 3: Binomial Distribution: n = 10, p=0.25\", size = 16)\n",
    "plt.ylabel(\"pmf(k)\", size = 16)\n",
    "plt.xlabel(\"k\", size = 16)\n",
    "plt.xticks(n)\n",
    "plt.show()"
   ]
  },
  {
   "cell_type": "markdown",
   "metadata": {},
   "source": [
    "In plot 3, we have increased the total number of tests to n=30. Re-setting the p value back to 0.5. Notice how the gaussian distribution is centered in the center of the graph, at about 15. \n",
    "\n",
    "After changing different parameters, and multiple tests, it seems as if the distribution is always a gaussian shape with a center at about (n/p). "
   ]
  },
  {
   "cell_type": "markdown",
   "metadata": {},
   "source": [
    "### 1. C\n",
    "**Define hypothetical question:**\n",
    "\n",
    "From plot 3, what is the probability of getting the most successes for after 1 trial?"
   ]
  },
  {
   "cell_type": "code",
   "execution_count": 329,
   "metadata": {},
   "outputs": [
    {
     "name": "stdout",
     "output_type": "stream",
     "text": [
      "Input k value =  1\n",
      "oputput pmf value =  0.18771171569824247\n"
     ]
    }
   ],
   "source": [
    "k_input = 1\n",
    "print(\"Input k value = \", k_input);\n",
    "\n",
    "probability = binomial.pmf(k_input);\n",
    "print(\"oputput pmf value = \", probability);"
   ]
  },
  {
   "cell_type": "markdown",
   "metadata": {},
   "source": [
    "From the graph above, we can see that the output value is correct."
   ]
  },
  {
   "cell_type": "markdown",
   "metadata": {},
   "source": [
    "### 1. E\n",
    "*Explain why it makes sense that the relsults are discrete and but the parameters of the distributions are not:*\n",
    "\n",
    "- The input probability p, is the  probability of success for any individual trial. This is a continuous variable that can have any value between 0 or 1. \n",
    "\n",
    "- The results of the pmf are discontinuous because the data is discontinuous. Each data point will have a boolean outcome, either true or false, for a specific number of trials. The number of trials is also a discontinuous number. Because the data points are discrete, not continuous, the results of the pmf to also discrete. "
    "\n",
    "- When looking at the overall data, it is possible to have an average mean with a non-integer value, like 5.5, however, the actuall data points come from a discontinuous distribtuion.
   ]
  },
  {
   "cell_type": "code",
   "execution_count": null,
   "metadata": {},
   "outputs": [],
   "source": []
  }
 ],
 "metadata": {
  "kernelspec": {
   "display_name": "Python 3",
   "language": "python",
   "name": "python3"
  },
  "language_info": {
   "codemirror_mode": {
    "name": "ipython",
    "version": 3
   },
   "file_extension": ".py",
   "mimetype": "text/x-python",
   "name": "python",
   "nbconvert_exporter": "python",
   "pygments_lexer": "ipython3",
   "version": "3.7.4"
  }
 },
 "nbformat": 4,
 "nbformat_minor": 4
}
