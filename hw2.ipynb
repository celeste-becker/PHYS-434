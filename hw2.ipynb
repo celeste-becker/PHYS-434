{
 "cells": [
  {
   "cell_type": "markdown",
   "metadata": {},
   "source": [
    "# HW 2"
   ]
  },
  {
   "cell_type": "code",
   "execution_count": 18,
   "metadata": {},
   "outputs": [],
   "source": [
    "## Importing Libraries \n",
    "%matplotlib inline\n",
    "import numpy as np\n",
    "import matplotlib\n",
    "import matplotlib.pyplot as plt\n",
    "import scipy\n",
    "from scipy import stats"
   ]
  },
  {
   "cell_type": "markdown",
   "metadata": {},
   "source": [
    "#### 1) Which is more probable when rolling 2 six-sided dice: rolling snake eyes (two ones) or rolling sevens (dice sum to seven)? What is the ratio of the probabilities?\n"
   ]
  },
  {
   "cell_type": "markdown",
   "metadata": {},
   "source": [
    "With two six sided dice, there are a total of 36 different rolling possibilities.\n",
    "\n",
    "*The probability of rolling snake eyes:*\n",
    "There is only one way  to roll snake eyes.\n",
    "P $ = \\frac{1}{6}*\\frac{1}{6} = \\frac{1}{36}$\n",
    "\n",
    "*The probability of rolling dice that sum to seven:*\n",
    "There are six different ways to roll a seven with two dice.\n",
    "\n",
    "P $ = \\frac{6}{36} = \\frac{1}{6}$\n",
    "\n",
    "The **ratio of the probabilities** of rolling sevens to rolling snake eyes $ = \\frac{\\frac{6}{36}}{\\frac{1}{36}} = 6$\n",
    "\n",
    "**The probability of rolling a seven is 6 times more than the than rolling snake eyes.**"
   ]
  },
  {
   "cell_type": "markdown",
   "metadata": {},
   "source": [
    "####  2) Show how to use the convolution operator to determine the probability of the sum of 2 six sided dice. Do both analytically (math & counting) and numerically (computer program). Beware the implicit definition of the values (x-axis on histogram).\n"
   ]
  },
  {
   "cell_type": "markdown",
   "metadata": {},
   "source": [
    "**Analytical:**\n",
    "Rolling two six sided dice, there are a total of 6*6=36 different rolling possiblities.\n",
    "\n",
    "To determine the probability of the sum of 2 six sided dice, you need to find the number of ways you can roll two dice that sum to the same number.\n",
    "\n",
    "**Discrete Convolution:**\n",
    "\n",
    "$${\\displaystyle (f*g)[n]=\\sum _{m=-\\infty }^{\\infty }f[m]g[n-m],}$$\n",
    "\n",
    "m = dummy variable, that sets both arrays to lenght m, flip second array\n",
    "\n",
    "second array (-m) flips order\n",
    "\n",
    "Probabilities of rolling two dice that sum to given #:\n",
    "(calculated by counting)\n",
    "-  2: 1/36\n",
    "-  3: 2/36\n",
    "-  4: 3/36\n",
    "-  5: 4/36\n",
    "-  6: 5/36\n",
    "-  7: 6/36\n",
    "-  8: 5/36\n",
    "-  9: 4/36\n",
    "- 10: 3/36\n",
    "- 11: 2/36\n",
    "- 12: 1/36"
   ]
  },
  {
   "cell_type": "markdown",
   "metadata": {},
   "source": [
    "**Code:**\n",
    "\n",
    "Here we make an array representing the different numbers on each face of the die.\n",
    "\n",
    "Next we make an array that represents the probability of rolling each number on the six sided die. This is a 1/6 probability for each number.\n",
    "\n",
    "To find the probability of rolling a sum of each number, we use the convolution operator with both dice. "
   ]
  },
  {
   "cell_type": "code",
   "execution_count": 19,
   "metadata": {},
   "outputs": [
    {
     "name": "stdout",
     "output_type": "stream",
     "text": [
      "The array of probabilities to sum for each number: \n",
      "[0.02777778 0.05555556 0.08333333 0.11111111 0.13888889 0.16666667\n",
      " 0.13888889 0.11111111 0.08333333 0.05555556 0.02777778]\n"
     ]
    }
   ],
   "source": [
    "#array representing the die --? Do i need this\n",
    "die = [1, 2, 3, 4, 5, 6];\n",
    "\n",
    "#Probability of rolling each number on a die\n",
    "dice_prob = [1/6, 1/6, 1/6, 1/6, 1/6, 1/6]; \n",
    "\n",
    "#Use the convolution function to find the probabilities for rolling a sum of \n",
    "#a number with two dice\n",
    "probability_of_sum_to_number = np.convolve(dice_prob, dice_prob, mode = 'full')\n",
    "#USE VALID TO PROVE?? --> not nessary?\n",
    "\n",
    "print(\"The array of probabilities to sum for each number: \")\n",
    "print(probability_of_sum_to_number)"
   ]
  },
  {
   "cell_type": "markdown",
   "metadata": {},
   "source": [
    "#### Plot "
   ]
  },
  {
   "cell_type": "code",
   "execution_count": 20,
   "metadata": {},
   "outputs": [
    {
     "data": {
      "image/png": "[encoded data removed]",
      "text/plain": [
       "<Figure size 432x288 with 1 Axes>"
      ]
     },
     "metadata": {
      "needs_background": "light"
     },
     "output_type": "display_data"
    },
    {
     "name": "stdout",
     "output_type": "stream",
     "text": [
      "[2, 3, 4, 5, 6, 7, 8, 9, 10, 11, 12]\n"
     ]
    }
   ],
   "source": [
    "#Average and stardard deviation is the sum of the individual events\n",
    "\n",
    "#Plot probability \n",
    "number_sum = [2, 3, 4, 5, 6, 7, 8, 9, 10, 11, 12];\n",
    "\n",
    "#Graph with histogram and histogram together\n",
    "plt.step(number_sum,probability_of_sum_to_number)\n",
    "#plt.hist(number_sum, probability_of_sum_to_number)\n",
    "plt.title(\"Plot 1\", size = 16)\n",
    "plt.ylabel(\"Probability\", size = 16)\n",
    "plt.xlabel(\"sum of two dice\", size = 16)\n",
    "plt.xticks(number_sum)\n",
    "plt.show()\n",
    "print(number_sum)"
   ]
  },
  {
   "cell_type": "markdown",
   "metadata": {},
   "source": [
    "####  3) Calculate the mean and the variance of the distribution in problem 2\n"
   ]
  },
  {
   "cell_type": "code",
   "execution_count": 21,
   "metadata": {},
   "outputs": [
    {
     "name": "stdout",
     "output_type": "stream",
     "text": [
      "the mean is:  [7.]\n",
      "the variance is:  5.833333333333334\n"
     ]
    }
   ],
   "source": [
    "#Calculate mean\n",
    "reversed_number_sum = number_sum[::-1]\n",
    "#print(number_sum)\n",
    "#print(reversed_number_sum)\n",
    "\n",
    "#Find mean\n",
    "probability_mean = np.convolve(probability_of_sum_to_number, number_sum, mode = 'valid')\n",
    "print('the mean is: ', probability_mean)\n",
    "\n",
    "#Find vairance\n",
    "variance = sum(((number_sum - probability_mean)**2)*probability_of_sum_to_number)\n",
    "print('the variance is: ', variance)"
   ]
  },
  {
   "cell_type": "markdown",
   "metadata": {},
   "source": [
    "#### 4) Repeat 2, and graph the average of 10 dice. Is this is a Gaussian distribution? Explain in depth.\n",
    "\n"
   ]
  },
  {
   "cell_type": "code",
   "execution_count": 31,
   "metadata": {},
   "outputs": [
    {
     "data": {
      "image/png": "[encoded data removed]",
      "text/plain": [
       "<Figure size 432x288 with 1 Axes>"
      ]
     },
     "metadata": {
      "needs_background": "light"
     },
     "output_type": "display_data"
    },
    {
     "data": {
      "image/png": "[encoded data removed]",
      "text/plain": [
       "<Figure size 432x288 with 1 Axes>"
      ]
     },
     "metadata": {
      "needs_background": "light"
     },
     "output_type": "display_data"
    }
   ],
   "source": [
    "#Probability of rolling each number on a die\n",
    "\n",
    "dice_prob = [1/6, 1/6, 1/6, 1/6, 1/6, 1/6];\n",
    "\n",
    "dice2_prob = [1/6, 1/6, 1/6, 1/6, 1/6, 1/6];\n",
    "\n",
    "#Convolving 10 times\n",
    "for i in range(9):\n",
    "    \n",
    "    if i == 0:\n",
    "        dice_roll_10_probs = np.convolve(dice_prob, dice2_prob);\n",
    "        \n",
    "    else: \n",
    "        dice_roll_10_probs = np.convolve(dice_prob, dice_roll_10_probs);\n",
    "        \n",
    "\n",
    "#----PLOT1: PROBABILITY VS. SUM OF 10 DICE ---\n",
    "dice_10_sum = np.arange(10,61,1)\n",
    "# The average can range from 1 to 6 ????????????????\n",
    "plt.step(dice_10_sum, dice_roll_10_probs)\n",
    "plt.title(\"Probability 10 Dice Sum to Number\", size = 16)\n",
    "plt.ylabel(\"Probability\", size = 16)\n",
    "plt.xlabel(\"number of ten summed dice\", size = 16)\n",
    "plt.show()\n",
    "#print(dice_10_sum)\n",
    "\n",
    "\n",
    "\n",
    "\n",
    "\n",
    "\n",
    "#----PLOT2: Probability vs. SUM of 10  dice in gaussian approximation---\n",
    "#Find mean\n",
    "reverse_dice_10_sum = dice_10_sum[::-1]\n",
    "#print(reverse_dice_10_sum)\n",
    "\n",
    "probab10_mean = np.convolve(dice_roll_10_probs, reverse_dice_10_sum, mode = 'valid')\n",
    "\n",
    "#print(probab10_mean)\n",
    "\n",
    "var10 = 10*np.var([1,2,3,4,5,6]);\n",
    "sigma10 = np.sqrt(var10);\n",
    "\n",
    "x = np.sort(stats.norm.rvs(probab10_mean,sigma10,1000000));\n",
    "fig, ax = plt.subplots(1, 1)\n",
    "\n",
    "ax.plot(x, stats.norm.pdf(x,probab10_mean,sigma10), label='normal pdf')\n",
    "\n",
    "plt.title(\"Gaussian Approximation\", size = 16)\n",
    "plt.ylabel(\"Probability\", size = 16)\n",
    "plt.xlabel(\"number of ten summed dice\", size = 16)\n",
    "plt.show()"
   ]
  },
  {
   "cell_type": "markdown",
   "metadata": {},
   "source": [
    "Our probability funciton follows a gaussian curve, as we can see with the similarities between the two graphs above. The mean is the same for both graphs, and the gaussian curve fits the step function graph.  The approximation improves as you increase the number of dice you are rolling, because there are more and more possible summed number possibilites, smoothing out the intervals in the step funciton. This is related to the central limit thorem, which states that when independent random variables are added their properly normalized sum tends towards a normal distribution. This is why the graph of rolling ten dice looks more gaussian than the graph in question 2 of rolling 2 dice. "
   ]
  },
  {
   "cell_type": "markdown",
   "metadata": {},
   "source": [
    "####  5) Show that the sum and average of an initially Gaussian distribution is also a Guassian (can be analytic or numerical). How does the standard deviation of the resulting sum or average Guassian change? This is a hugely important result. Explore what this means for integrating a signal over time."
   ]
  },
  {
   "cell_type": "markdown",
   "metadata": {},
   "source": [
    "As we saw from the example in class, the sum and average of an initially Gaussian distribution is also a gaussian. You can allso see this in my plots above. \n",
    "\n",
    "Additionally, no matter how many times you average a gaussian distribution, it will have a probability density function in the form: \n",
    "\n",
    "$${\\displaystyle f(x)={\\frac {1}{\\sigma {\\sqrt {2\\pi }}}}e^{-{\\frac {1}{2}}\\left({\\frac {x-\\mu }{\\sigma }}\\right)^{2}}}$$\n",
    "\n",
    "As you average a gaussian distribution, the standard deviation shrinks. This is because the average of two gaussian distributions will have a standard deviation that is the square root of of the addition two variances coresponding to each gaussian distribution. The square root makes the standard deviation smaller than just the addition of the variances. This means that overall, the new standard deviation is smaller.\n",
    "\n",
    "This is important because as you integrate a signal over time and average a distribution, the standard deviation will evolve with time."
   ]
  },
  {
   "cell_type": "code",
   "execution_count": null,
   "metadata": {},
   "outputs": [],
   "source": []
  }
 ],
 "metadata": {
  "kernelspec": {
   "display_name": "Python 3",
   "language": "python",
   "name": "python3"
  },
  "language_info": {
   "codemirror_mode": {
    "name": "ipython",
    "version": 3
   },
   "file_extension": ".py",
   "mimetype": "text/x-python",
   "name": "python",
   "nbconvert_exporter": "python",
   "pygments_lexer": "ipython3",
   "version": "3.7.4"
  }
 },
 "nbformat": 4,
 "nbformat_minor": 4
}
